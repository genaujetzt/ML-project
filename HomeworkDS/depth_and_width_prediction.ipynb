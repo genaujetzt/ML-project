{
 "cells": [
  {
   "cell_type": "code",
   "execution_count": 55,
   "id": "847e1f8f",
   "metadata": {},
   "outputs": [],
   "source": [
    "#importing libraries\n",
    "import pandas as pd \n",
    "import numpy as np\n",
    "import seaborn as sns\n",
    "import matplotlib.pyplot as plt\n",
    "from sklearn.model_selection import train_test_split, cross_val_score\n",
    "from sklearn.preprocessing import MinMaxScaler\n",
    "from sklearn import metrics, tree\n",
    "from sklearn.multioutput import MultiOutputRegressor\n",
    "from sklearn.neighbors import KNeighborsRegressor\n",
    "from sklearn.ensemble import RandomForestRegressor\n",
    "from sklearn.linear_model import LinearRegression\n",
    "from xgboost import XGBRegressor\n",
    "%matplotlib inline"
   ]
  },
  {
   "cell_type": "markdown",
   "id": "7678cfc6",
   "metadata": {},
   "source": [
    "# Прочитаем датасет и проведем разведочный анализ"
   ]
  },
  {
   "cell_type": "code",
   "execution_count": 17,
   "id": "a2a348d5",
   "metadata": {},
   "outputs": [
    {
     "data": {
      "text/html": [
       "<div>\n",
       "<style scoped>\n",
       "    .dataframe tbody tr th:only-of-type {\n",
       "        vertical-align: middle;\n",
       "    }\n",
       "\n",
       "    .dataframe tbody tr th {\n",
       "        vertical-align: top;\n",
       "    }\n",
       "\n",
       "    .dataframe thead th {\n",
       "        text-align: right;\n",
       "    }\n",
       "</style>\n",
       "<table border=\"1\" class=\"dataframe\">\n",
       "  <thead>\n",
       "    <tr style=\"text-align: right;\">\n",
       "      <th></th>\n",
       "      <th>IW</th>\n",
       "      <th>IF</th>\n",
       "      <th>VW</th>\n",
       "      <th>FP</th>\n",
       "      <th>Depth</th>\n",
       "      <th>Width</th>\n",
       "    </tr>\n",
       "  </thead>\n",
       "  <tbody>\n",
       "    <tr>\n",
       "      <th>0</th>\n",
       "      <td>47</td>\n",
       "      <td>139</td>\n",
       "      <td>4.5</td>\n",
       "      <td>80</td>\n",
       "      <td>1.60</td>\n",
       "      <td>2.54</td>\n",
       "    </tr>\n",
       "    <tr>\n",
       "      <th>1</th>\n",
       "      <td>47</td>\n",
       "      <td>139</td>\n",
       "      <td>4.5</td>\n",
       "      <td>80</td>\n",
       "      <td>1.62</td>\n",
       "      <td>2.50</td>\n",
       "    </tr>\n",
       "    <tr>\n",
       "      <th>2</th>\n",
       "      <td>47</td>\n",
       "      <td>139</td>\n",
       "      <td>4.5</td>\n",
       "      <td>80</td>\n",
       "      <td>1.68</td>\n",
       "      <td>2.60</td>\n",
       "    </tr>\n",
       "    <tr>\n",
       "      <th>3</th>\n",
       "      <td>47</td>\n",
       "      <td>139</td>\n",
       "      <td>4.5</td>\n",
       "      <td>80</td>\n",
       "      <td>1.58</td>\n",
       "      <td>2.52</td>\n",
       "    </tr>\n",
       "    <tr>\n",
       "      <th>4</th>\n",
       "      <td>45</td>\n",
       "      <td>140</td>\n",
       "      <td>4.5</td>\n",
       "      <td>80</td>\n",
       "      <td>1.76</td>\n",
       "      <td>2.48</td>\n",
       "    </tr>\n",
       "  </tbody>\n",
       "</table>\n",
       "</div>"
      ],
      "text/plain": [
       "   IW   IF   VW  FP  Depth  Width\n",
       "0  47  139  4.5  80   1.60   2.54\n",
       "1  47  139  4.5  80   1.62   2.50\n",
       "2  47  139  4.5  80   1.68   2.60\n",
       "3  47  139  4.5  80   1.58   2.52\n",
       "4  45  140  4.5  80   1.76   2.48"
      ]
     },
     "execution_count": 17,
     "metadata": {},
     "output_type": "execute_result"
    }
   ],
   "source": [
    "data = pd.read_csv(\"/home/vi/Downloads/MGTU/practical case/Датасет к Практическому заданию/ebw_data.csv\")\n",
    "data.head()  "
   ]
  },
  {
   "cell_type": "markdown",
   "id": "b89d3cab",
   "metadata": {},
   "source": [
    "Параметры:\n",
    "величина сварочного тока (IW);\n",
    "ток фокусировки электронного пучка (IF);\n",
    "скорость сварки (VW);\n",
    "расстояние от поверхности образцов до электронно-оптической системы (FP)."
   ]
  },
  {
   "cell_type": "code",
   "execution_count": 18,
   "id": "4ecde4e8",
   "metadata": {},
   "outputs": [
    {
     "data": {
      "text/plain": [
       "(72, 6)"
      ]
     },
     "execution_count": 18,
     "metadata": {},
     "output_type": "execute_result"
    }
   ],
   "source": [
    "data.shape "
   ]
  },
  {
   "cell_type": "code",
   "execution_count": 19,
   "id": "8968deb2",
   "metadata": {},
   "outputs": [
    {
     "name": "stdout",
     "output_type": "stream",
     "text": [
      "<class 'pandas.core.frame.DataFrame'>\n",
      "RangeIndex: 72 entries, 0 to 71\n",
      "Data columns (total 6 columns):\n",
      " #   Column  Non-Null Count  Dtype  \n",
      "---  ------  --------------  -----  \n",
      " 0   IW      72 non-null     int64  \n",
      " 1   IF      72 non-null     int64  \n",
      " 2   VW      72 non-null     float64\n",
      " 3   FP      72 non-null     int64  \n",
      " 4   Depth   72 non-null     float64\n",
      " 5   Width   72 non-null     float64\n",
      "dtypes: float64(3), int64(3)\n",
      "memory usage: 3.5 KB\n"
     ]
    }
   ],
   "source": [
    "data.info()  #No NaNs"
   ]
  },
  {
   "cell_type": "code",
   "execution_count": 20,
   "id": "4cace4e5",
   "metadata": {},
   "outputs": [
    {
     "data": {
      "text/html": [
       "<div>\n",
       "<style scoped>\n",
       "    .dataframe tbody tr th:only-of-type {\n",
       "        vertical-align: middle;\n",
       "    }\n",
       "\n",
       "    .dataframe tbody tr th {\n",
       "        vertical-align: top;\n",
       "    }\n",
       "\n",
       "    .dataframe thead th {\n",
       "        text-align: right;\n",
       "    }\n",
       "</style>\n",
       "<table border=\"1\" class=\"dataframe\">\n",
       "  <thead>\n",
       "    <tr style=\"text-align: right;\">\n",
       "      <th></th>\n",
       "      <th>IW</th>\n",
       "      <th>IF</th>\n",
       "      <th>VW</th>\n",
       "      <th>FP</th>\n",
       "      <th>Depth</th>\n",
       "      <th>Width</th>\n",
       "    </tr>\n",
       "  </thead>\n",
       "  <tbody>\n",
       "    <tr>\n",
       "      <th>count</th>\n",
       "      <td>72.000000</td>\n",
       "      <td>72.000000</td>\n",
       "      <td>72.000000</td>\n",
       "      <td>72.000000</td>\n",
       "      <td>72.000000</td>\n",
       "      <td>72.000000</td>\n",
       "    </tr>\n",
       "    <tr>\n",
       "      <th>mean</th>\n",
       "      <td>45.666667</td>\n",
       "      <td>141.333333</td>\n",
       "      <td>8.638889</td>\n",
       "      <td>78.333333</td>\n",
       "      <td>1.195556</td>\n",
       "      <td>1.970417</td>\n",
       "    </tr>\n",
       "    <tr>\n",
       "      <th>std</th>\n",
       "      <td>1.678363</td>\n",
       "      <td>5.145763</td>\n",
       "      <td>2.061078</td>\n",
       "      <td>21.493530</td>\n",
       "      <td>0.225081</td>\n",
       "      <td>0.279040</td>\n",
       "    </tr>\n",
       "    <tr>\n",
       "      <th>min</th>\n",
       "      <td>43.000000</td>\n",
       "      <td>131.000000</td>\n",
       "      <td>4.500000</td>\n",
       "      <td>50.000000</td>\n",
       "      <td>0.800000</td>\n",
       "      <td>1.680000</td>\n",
       "    </tr>\n",
       "    <tr>\n",
       "      <th>25%</th>\n",
       "      <td>44.000000</td>\n",
       "      <td>139.000000</td>\n",
       "      <td>8.000000</td>\n",
       "      <td>60.000000</td>\n",
       "      <td>1.080000</td>\n",
       "      <td>1.760000</td>\n",
       "    </tr>\n",
       "    <tr>\n",
       "      <th>50%</th>\n",
       "      <td>45.500000</td>\n",
       "      <td>141.000000</td>\n",
       "      <td>9.000000</td>\n",
       "      <td>80.000000</td>\n",
       "      <td>1.200000</td>\n",
       "      <td>1.840000</td>\n",
       "    </tr>\n",
       "    <tr>\n",
       "      <th>75%</th>\n",
       "      <td>47.000000</td>\n",
       "      <td>146.000000</td>\n",
       "      <td>10.000000</td>\n",
       "      <td>80.000000</td>\n",
       "      <td>1.290000</td>\n",
       "      <td>2.050000</td>\n",
       "    </tr>\n",
       "    <tr>\n",
       "      <th>max</th>\n",
       "      <td>49.000000</td>\n",
       "      <td>150.000000</td>\n",
       "      <td>12.000000</td>\n",
       "      <td>125.000000</td>\n",
       "      <td>1.760000</td>\n",
       "      <td>2.600000</td>\n",
       "    </tr>\n",
       "  </tbody>\n",
       "</table>\n",
       "</div>"
      ],
      "text/plain": [
       "              IW          IF         VW          FP      Depth      Width\n",
       "count  72.000000   72.000000  72.000000   72.000000  72.000000  72.000000\n",
       "mean   45.666667  141.333333   8.638889   78.333333   1.195556   1.970417\n",
       "std     1.678363    5.145763   2.061078   21.493530   0.225081   0.279040\n",
       "min    43.000000  131.000000   4.500000   50.000000   0.800000   1.680000\n",
       "25%    44.000000  139.000000   8.000000   60.000000   1.080000   1.760000\n",
       "50%    45.500000  141.000000   9.000000   80.000000   1.200000   1.840000\n",
       "75%    47.000000  146.000000  10.000000   80.000000   1.290000   2.050000\n",
       "max    49.000000  150.000000  12.000000  125.000000   1.760000   2.600000"
      ]
     },
     "execution_count": 20,
     "metadata": {},
     "output_type": "execute_result"
    }
   ],
   "source": [
    "data.describe() #Dataset statistics"
   ]
  },
  {
   "cell_type": "code",
   "execution_count": 125,
   "id": "a32eec9e",
   "metadata": {},
   "outputs": [
    {
     "data": {
      "image/png": "[encoded data removed]",
      "text/plain": [
       "<Figure size 1080x720 with 6 Axes>"
      ]
     },
     "metadata": {
      "needs_background": "light"
     },
     "output_type": "display_data"
    }
   ],
   "source": [
    "counter = 1     #The distribution of the values in features\n",
    "plt.figure(figsize = (15,10))\n",
    "for col in data.columns:\n",
    "    plt.subplot(2, 3, counter)\n",
    "    sns.histplot(data = data[col], kde = True, color = \"teal\")\n",
    "    plt.ylabel(ylabel = None)\n",
    "    plt.xlabel(xlabel = None)\n",
    "    plt.title(col, size = 20)\n",
    "    counter += 1 "
   ]
  },
  {
   "cell_type": "code",
   "execution_count": 127,
   "id": "219950a5",
   "metadata": {},
   "outputs": [
    {
     "data": {
      "image/png": "[encoded data removed]",
      "text/plain": [
       "<Figure size 1080x1080 with 6 Axes>"
      ]
     },
     "metadata": {
      "needs_background": "light"
     },
     "output_type": "display_data"
    }
   ],
   "source": [
    "#Boxplots of our data. The data points that are located outside the whiskers of the boxplot are outliers.\n",
    "counter = 1\n",
    "plt.figure(figsize = (15,15))\n",
    "\n",
    "for col in data.columns:\n",
    "    plt.subplot(2, 3, counter)\n",
    "    sns.boxplot(data = data, y = data[col], fliersize = 15, linewidth = 2, color = 'teal')\n",
    "    plt.ylabel(ylabel = None)\n",
    "    plt.title(col, size = 15)\n",
    "    counter += 1"
   ]
  },
  {
   "cell_type": "markdown",
   "id": "1bf04404",
   "metadata": {},
   "source": [
    "То, что тут выглядит, как выбросы, на самом деле скорее всего ими не является: во-первых, у нас довольно много \n",
    "таких значений, а не одно, во-вторых, сам датасет очень маленький, поэтому мы не будем их отбрасывать."
   ]
  },
  {
   "cell_type": "code",
   "execution_count": null,
   "id": "dc9048e9",
   "metadata": {},
   "outputs": [],
   "source": [
    "sns.pairplot(data, diag_kind = 'kde')\n",
    "#Pairplots of features in the dataset against each other to check for possible correlation"
   ]
  },
  {
   "cell_type": "code",
   "execution_count": 23,
   "id": "af873f80",
   "metadata": {},
   "outputs": [
    {
     "data": {
      "image/png": "[encoded data removed]",
      "text/plain": [
       "<Figure size 720x720 with 2 Axes>"
      ]
     },
     "metadata": {
      "needs_background": "light"
     },
     "output_type": "display_data"
    }
   ],
   "source": [
    "# A heatmap of correlation between the features in the dataset. \n",
    "plt.figure(figsize=(10,10))\n",
    "sns.heatmap(data.corr(),cmap = 'coolwarm',annot = True) #correlation matrix\n",
    "plt.show()"
   ]
  },
  {
   "cell_type": "markdown",
   "id": "893cf312",
   "metadata": {},
   "source": [
    "Видно, что есть некоторая значительная корреляция между IW и IF,IW и FP,IF и FP, VW и Width.\n",
    "Но так как у нас очень маленький датасет, не будем исключать из него данные."
   ]
  },
  {
   "cell_type": "markdown",
   "id": "1ac8b085",
   "metadata": {},
   "source": [
    "# Подготовим датасет к анализу"
   ]
  },
  {
   "cell_type": "code",
   "execution_count": 24,
   "id": "8b833e3c",
   "metadata": {},
   "outputs": [],
   "source": [
    "X = data.drop([\"Width\", \"Depth\"], axis=1)\n",
    "Y = data[[\"Width\", \"Depth\"]].copy() \n",
    "#We will use models that allow prediction of 2 targets, so Y will contain both targets - Width and Depth"
   ]
  },
  {
   "cell_type": "code",
   "execution_count": 25,
   "id": "1da23681",
   "metadata": {},
   "outputs": [
    {
     "data": {
      "text/html": [
       "<div>\n",
       "<style scoped>\n",
       "    .dataframe tbody tr th:only-of-type {\n",
       "        vertical-align: middle;\n",
       "    }\n",
       "\n",
       "    .dataframe tbody tr th {\n",
       "        vertical-align: top;\n",
       "    }\n",
       "\n",
       "    .dataframe thead th {\n",
       "        text-align: right;\n",
       "    }\n",
       "</style>\n",
       "<table border=\"1\" class=\"dataframe\">\n",
       "  <thead>\n",
       "    <tr style=\"text-align: right;\">\n",
       "      <th></th>\n",
       "      <th>IW</th>\n",
       "      <th>IF</th>\n",
       "      <th>VW</th>\n",
       "      <th>FP</th>\n",
       "    </tr>\n",
       "  </thead>\n",
       "  <tbody>\n",
       "    <tr>\n",
       "      <th>count</th>\n",
       "      <td>72.000000</td>\n",
       "      <td>72.000000</td>\n",
       "      <td>72.000000</td>\n",
       "      <td>72.000000</td>\n",
       "    </tr>\n",
       "    <tr>\n",
       "      <th>mean</th>\n",
       "      <td>45.666667</td>\n",
       "      <td>141.333333</td>\n",
       "      <td>8.638889</td>\n",
       "      <td>78.333333</td>\n",
       "    </tr>\n",
       "    <tr>\n",
       "      <th>std</th>\n",
       "      <td>1.678363</td>\n",
       "      <td>5.145763</td>\n",
       "      <td>2.061078</td>\n",
       "      <td>21.493530</td>\n",
       "    </tr>\n",
       "    <tr>\n",
       "      <th>min</th>\n",
       "      <td>43.000000</td>\n",
       "      <td>131.000000</td>\n",
       "      <td>4.500000</td>\n",
       "      <td>50.000000</td>\n",
       "    </tr>\n",
       "    <tr>\n",
       "      <th>25%</th>\n",
       "      <td>44.000000</td>\n",
       "      <td>139.000000</td>\n",
       "      <td>8.000000</td>\n",
       "      <td>60.000000</td>\n",
       "    </tr>\n",
       "    <tr>\n",
       "      <th>50%</th>\n",
       "      <td>45.500000</td>\n",
       "      <td>141.000000</td>\n",
       "      <td>9.000000</td>\n",
       "      <td>80.000000</td>\n",
       "    </tr>\n",
       "    <tr>\n",
       "      <th>75%</th>\n",
       "      <td>47.000000</td>\n",
       "      <td>146.000000</td>\n",
       "      <td>10.000000</td>\n",
       "      <td>80.000000</td>\n",
       "    </tr>\n",
       "    <tr>\n",
       "      <th>max</th>\n",
       "      <td>49.000000</td>\n",
       "      <td>150.000000</td>\n",
       "      <td>12.000000</td>\n",
       "      <td>125.000000</td>\n",
       "    </tr>\n",
       "  </tbody>\n",
       "</table>\n",
       "</div>"
      ],
      "text/plain": [
       "              IW          IF         VW          FP\n",
       "count  72.000000   72.000000  72.000000   72.000000\n",
       "mean   45.666667  141.333333   8.638889   78.333333\n",
       "std     1.678363    5.145763   2.061078   21.493530\n",
       "min    43.000000  131.000000   4.500000   50.000000\n",
       "25%    44.000000  139.000000   8.000000   60.000000\n",
       "50%    45.500000  141.000000   9.000000   80.000000\n",
       "75%    47.000000  146.000000  10.000000   80.000000\n",
       "max    49.000000  150.000000  12.000000  125.000000"
      ]
     },
     "execution_count": 25,
     "metadata": {},
     "output_type": "execute_result"
    }
   ],
   "source": [
    "X.describe()"
   ]
  },
  {
   "cell_type": "code",
   "execution_count": 56,
   "id": "85103896",
   "metadata": {},
   "outputs": [],
   "source": [
    "random_state = 0\n",
    "X_train, X_test, Y_train, Y_test = train_test_split(X, \n",
    "                                                    Y, \n",
    "                                                    train_size=0.8, \n",
    "                                                    test_size=0.2, \n",
    "                                                    random_state=random_state, \n",
    "                                                    shuffle=True)\n",
    "#Splitting into test and train subsets"
   ]
  },
  {
   "cell_type": "code",
   "execution_count": 57,
   "id": "a9fc1359",
   "metadata": {},
   "outputs": [],
   "source": [
    "scaler = MinMaxScaler()   #Normalizing x\n",
    "X_train = scaler.fit_transform(X_train)\n",
    "X_test = scaler.transform(X_test)"
   ]
  },
  {
   "cell_type": "code",
   "execution_count": 58,
   "id": "901a6b04",
   "metadata": {},
   "outputs": [
    {
     "data": {
      "text/plain": [
       "array([[0.        , 1.        , 0.6       , 0.        ],\n",
       "       [0.33333333, 0.78947368, 0.6       , 0.13333333],\n",
       "       [0.        , 0.78947368, 0.6       , 0.13333333],\n",
       "       [0.66666667, 0.47368421, 0.73333333, 0.4       ],\n",
       "       [0.33333333, 0.47368421, 0.        , 0.4       ]])"
      ]
     },
     "execution_count": 58,
     "metadata": {},
     "output_type": "execute_result"
    }
   ],
   "source": [
    "X_train[:5]  "
   ]
  },
  {
   "cell_type": "code",
   "execution_count": 59,
   "id": "ea8daa55",
   "metadata": {},
   "outputs": [
    {
     "data": {
      "text/plain": [
       "((57, 4), (57, 2))"
      ]
     },
     "execution_count": 59,
     "metadata": {},
     "output_type": "execute_result"
    }
   ],
   "source": [
    "X_train.shape, Y_train.shape #The datasets are split correctly"
   ]
  },
  {
   "cell_type": "code",
   "execution_count": 60,
   "id": "f3088ba9",
   "metadata": {},
   "outputs": [],
   "source": [
    "models = pd.DataFrame(columns = ['model', 'test_score', 'cross_val_score', \"W MAE\", \"W MSE\", \"W RMSE\", \"D MAE\", \"D MSE\", 'D RMSE'])\n",
    "#preparing a dataset that will contain the results of our models"
   ]
  },
  {
   "cell_type": "markdown",
   "id": "86d0f566",
   "metadata": {},
   "source": [
    "# Построим модели и оценим их эффективность"
   ]
  },
  {
   "cell_type": "markdown",
   "id": "49cda801",
   "metadata": {},
   "source": [
    "### DecisionTreeRegressor"
   ]
  },
  {
   "cell_type": "markdown",
   "id": "08770091",
   "metadata": {},
   "source": [
    "Подберем гиперпараметр max_depth и посчитаем score на тестовой выборке, а также методом кросс-валидации."
   ]
  },
  {
   "cell_type": "code",
   "execution_count": 61,
   "id": "6774207a",
   "metadata": {},
   "outputs": [
    {
     "data": {
      "text/html": [
       "<div>\n",
       "<style scoped>\n",
       "    .dataframe tbody tr th:only-of-type {\n",
       "        vertical-align: middle;\n",
       "    }\n",
       "\n",
       "    .dataframe tbody tr th {\n",
       "        vertical-align: top;\n",
       "    }\n",
       "\n",
       "    .dataframe thead th {\n",
       "        text-align: right;\n",
       "    }\n",
       "</style>\n",
       "<table border=\"1\" class=\"dataframe\">\n",
       "  <thead>\n",
       "    <tr style=\"text-align: right;\">\n",
       "      <th></th>\n",
       "      <th>max_depth</th>\n",
       "      <th>train_score</th>\n",
       "      <th>test_score</th>\n",
       "      <th>cross_val_score</th>\n",
       "    </tr>\n",
       "  </thead>\n",
       "  <tbody>\n",
       "    <tr>\n",
       "      <th>0</th>\n",
       "      <td>2</td>\n",
       "      <td>0.875143</td>\n",
       "      <td>0.821104</td>\n",
       "      <td>0.804905</td>\n",
       "    </tr>\n",
       "    <tr>\n",
       "      <th>1</th>\n",
       "      <td>3</td>\n",
       "      <td>0.915965</td>\n",
       "      <td>0.859209</td>\n",
       "      <td>0.861128</td>\n",
       "    </tr>\n",
       "    <tr>\n",
       "      <th>2</th>\n",
       "      <td>4</td>\n",
       "      <td>0.948426</td>\n",
       "      <td>0.859908</td>\n",
       "      <td>0.906209</td>\n",
       "    </tr>\n",
       "    <tr>\n",
       "      <th>3</th>\n",
       "      <td>5</td>\n",
       "      <td>0.962584</td>\n",
       "      <td>0.864219</td>\n",
       "      <td>0.911352</td>\n",
       "    </tr>\n",
       "    <tr>\n",
       "      <th>4</th>\n",
       "      <td>6</td>\n",
       "      <td>0.965107</td>\n",
       "      <td>0.859223</td>\n",
       "      <td>0.911229</td>\n",
       "    </tr>\n",
       "  </tbody>\n",
       "</table>\n",
       "</div>"
      ],
      "text/plain": [
       "   max_depth  train_score  test_score  cross_val_score\n",
       "0          2     0.875143    0.821104         0.804905\n",
       "1          3     0.915965    0.859209         0.861128\n",
       "2          4     0.948426    0.859908         0.906209\n",
       "3          5     0.962584    0.864219         0.911352\n",
       "4          6     0.965107    0.859223         0.911229"
      ]
     },
     "execution_count": 61,
     "metadata": {},
     "output_type": "execute_result"
    }
   ],
   "source": [
    "scores_data1 = pd.DataFrame()\n",
    "max_depth_values = range(2, 50)\n",
    "for max_depth in max_depth_values:\n",
    "    clf = MultiOutputRegressor(tree.DecisionTreeRegressor(max_depth = max_depth, random_state=random_state))\n",
    "    clf.fit(X_train,Y_train)\n",
    "    train_score = clf.score(X_train,Y_train)\n",
    "    test_score = clf.score(X_test,Y_test)\n",
    "    mean_cross_val_score = cross_val_score(clf, X_train,Y_train, cv = 5).mean() #mean score with 5 fold cross validation\n",
    "    temp = pd.DataFrame({'max_depth':[max_depth],'train_score':[train_score], 'test_score':[test_score],'cross_val_score':[mean_cross_val_score]})\n",
    "    scores_data1 = pd.concat([scores_data1, temp])\n",
    "scores_data1.reset_index(inplace=True)\n",
    "scores_data1 = scores_data1.drop(['index'], axis = 1)\n",
    "scores_data1.head()"
   ]
  },
  {
   "cell_type": "code",
   "execution_count": 62,
   "id": "36a8b41f",
   "metadata": {},
   "outputs": [
    {
     "data": {
      "text/plain": [
       "<matplotlib.legend.Legend at 0x7f98e032d7f0>"
      ]
     },
     "execution_count": 62,
     "metadata": {},
     "output_type": "execute_result"
    },
    {
     "data": {
      "image/png": "[encoded data removed]",
      "text/plain": [
       "<Figure size 432x288 with 1 Axes>"
      ]
     },
     "metadata": {
      "needs_background": "light"
     },
     "output_type": "display_data"
    }
   ],
   "source": [
    "# Plotting the score results for different depths.\n",
    "plt.plot(scores_data1['test_score'], label = 'test_score')\n",
    "plt.plot(scores_data1['cross_val_score'], label = 'cross_val_score')\n",
    "plt.legend()   "
   ]
  },
  {
   "cell_type": "markdown",
   "id": "0f54be5a",
   "metadata": {},
   "source": [
    "Тот факт, что score на кросс валидации выше, может означать, что наша модель переобучается."
   ]
  },
  {
   "cell_type": "code",
   "execution_count": 63,
   "id": "575b22c3",
   "metadata": {
    "scrolled": true
   },
   "outputs": [
    {
     "data": {
      "text/plain": [
       "[<matplotlib.lines.Line2D at 0x7f98e682a880>]"
      ]
     },
     "execution_count": 63,
     "metadata": {},
     "output_type": "execute_result"
    },
    {
     "data": {
      "image/png": "[encoded data removed]",
      "text/plain": [
       "<Figure size 1080x360 with 1 Axes>"
      ]
     },
     "metadata": {
      "needs_background": "light"
     },
     "output_type": "display_data"
    }
   ],
   "source": [
    "plt.figure(figsize = (15,5))\n",
    "plt.xticks(np.arange(0,45, 1.0))\n",
    "plt.plot(scores_data1['cross_val_score'])  "
   ]
  },
  {
   "cell_type": "markdown",
   "id": "ad64fea7",
   "metadata": {},
   "source": [
    "На графике четко видно, что есть значение max_depth, при котором достигается максимальная точность модели."
   ]
  },
  {
   "cell_type": "code",
   "execution_count": 64,
   "id": "cf444c12",
   "metadata": {},
   "outputs": [
    {
     "data": {
      "text/plain": [
       "0.9113516295360542"
      ]
     },
     "execution_count": 64,
     "metadata": {},
     "output_type": "execute_result"
    }
   ],
   "source": [
    "scores_data1['cross_val_score'].max()  #Our model reaches the best score when max_depth = 5"
   ]
  },
  {
   "cell_type": "code",
   "execution_count": 65,
   "id": "76d7a0d8",
   "metadata": {},
   "outputs": [],
   "source": [
    "model = MultiOutputRegressor(tree.DecisionTreeRegressor(max_depth = 5, random_state=random_state)) "
   ]
  },
  {
   "cell_type": "code",
   "execution_count": 66,
   "id": "36198315",
   "metadata": {},
   "outputs": [
    {
     "data": {
      "text/html": [
       "<style>#sk-container-id-2 {color: black;}#sk-container-id-2 pre{padding: 0;}#sk-container-id-2 div.sk-toggleable {background-color: white;}#sk-container-id-2 label.sk-toggleable__label {cursor: pointer;display: block;width: 100%;margin-bottom: 0;padding: 0.3em;box-sizing: border-box;text-align: center;}#sk-container-id-2 label.sk-toggleable__label-arrow:before {content: \"▸\";float: left;margin-right: 0.25em;color: #696969;}#sk-container-id-2 label.sk-toggleable__label-arrow:hover:before {color: black;}#sk-container-id-2 div.sk-estimator:hover label.sk-toggleable__label-arrow:before {color: black;}#sk-container-id-2 div.sk-toggleable__content {max-height: 0;max-width: 0;overflow: hidden;text-align: left;background-color: #f0f8ff;}#sk-container-id-2 div.sk-toggleable__content pre {margin: 0.2em;color: black;border-radius: 0.25em;background-color: #f0f8ff;}#sk-container-id-2 input.sk-toggleable__control:checked~div.sk-toggleable__content {max-height: 200px;max-width: 100%;overflow: auto;}#sk-container-id-2 input.sk-toggleable__control:checked~label.sk-toggleable__label-arrow:before {content: \"▾\";}#sk-container-id-2 div.sk-estimator input.sk-toggleable__control:checked~label.sk-toggleable__label {background-color: #d4ebff;}#sk-container-id-2 div.sk-label input.sk-toggleable__control:checked~label.sk-toggleable__label {background-color: #d4ebff;}#sk-container-id-2 input.sk-hidden--visually {border: 0;clip: rect(1px 1px 1px 1px);clip: rect(1px, 1px, 1px, 1px);height: 1px;margin: -1px;overflow: hidden;padding: 0;position: absolute;width: 1px;}#sk-container-id-2 div.sk-estimator {font-family: monospace;background-color: #f0f8ff;border: 1px dotted black;border-radius: 0.25em;box-sizing: border-box;margin-bottom: 0.5em;}#sk-container-id-2 div.sk-estimator:hover {background-color: #d4ebff;}#sk-container-id-2 div.sk-parallel-item::after {content: \"\";width: 100%;border-bottom: 1px solid gray;flex-grow: 1;}#sk-container-id-2 div.sk-label:hover label.sk-toggleable__label {background-color: #d4ebff;}#sk-container-id-2 div.sk-serial::before {content: \"\";position: absolute;border-left: 1px solid gray;box-sizing: border-box;top: 0;bottom: 0;left: 50%;z-index: 0;}#sk-container-id-2 div.sk-serial {display: flex;flex-direction: column;align-items: center;background-color: white;padding-right: 0.2em;padding-left: 0.2em;position: relative;}#sk-container-id-2 div.sk-item {position: relative;z-index: 1;}#sk-container-id-2 div.sk-parallel {display: flex;align-items: stretch;justify-content: center;background-color: white;position: relative;}#sk-container-id-2 div.sk-item::before, #sk-container-id-2 div.sk-parallel-item::before {content: \"\";position: absolute;border-left: 1px solid gray;box-sizing: border-box;top: 0;bottom: 0;left: 50%;z-index: -1;}#sk-container-id-2 div.sk-parallel-item {display: flex;flex-direction: column;z-index: 1;position: relative;background-color: white;}#sk-container-id-2 div.sk-parallel-item:first-child::after {align-self: flex-end;width: 50%;}#sk-container-id-2 div.sk-parallel-item:last-child::after {align-self: flex-start;width: 50%;}#sk-container-id-2 div.sk-parallel-item:only-child::after {width: 0;}#sk-container-id-2 div.sk-dashed-wrapped {border: 1px dashed gray;margin: 0 0.4em 0.5em 0.4em;box-sizing: border-box;padding-bottom: 0.4em;background-color: white;}#sk-container-id-2 div.sk-label label {font-family: monospace;font-weight: bold;display: inline-block;line-height: 1.2em;}#sk-container-id-2 div.sk-label-container {text-align: center;}#sk-container-id-2 div.sk-container {/* jupyter's `normalize.less` sets `[hidden] { display: none; }` but bootstrap.min.css set `[hidden] { display: none !important; }` so we also need the `!important` here to be able to override the default hidden behavior on the sphinx rendered scikit-learn.org. See: https://github.com/scikit-learn/scikit-learn/issues/21755 */display: inline-block !important;position: relative;}#sk-container-id-2 div.sk-text-repr-fallback {display: none;}</style><div id=\"sk-container-id-2\" class=\"sk-top-container\"><div class=\"sk-text-repr-fallback\"><pre>MultiOutputRegressor(estimator=DecisionTreeRegressor(max_depth=5,\n",
       "                                                     random_state=0))</pre><b>In a Jupyter environment, please rerun this cell to show the HTML representation or trust the notebook. <br />On GitHub, the HTML representation is unable to render, please try loading this page with nbviewer.org.</b></div><div class=\"sk-container\" hidden><div class=\"sk-item sk-dashed-wrapped\"><div class=\"sk-label-container\"><div class=\"sk-label sk-toggleable\"><input class=\"sk-toggleable__control sk-hidden--visually\" id=\"sk-estimator-id-4\" type=\"checkbox\" ><label for=\"sk-estimator-id-4\" class=\"sk-toggleable__label sk-toggleable__label-arrow\">MultiOutputRegressor</label><div class=\"sk-toggleable__content\"><pre>MultiOutputRegressor(estimator=DecisionTreeRegressor(max_depth=5,\n",
       "                                                     random_state=0))</pre></div></div></div><div class=\"sk-parallel\"><div class=\"sk-parallel-item\"><div class=\"sk-item\"><div class=\"sk-label-container\"><div class=\"sk-label sk-toggleable\"><input class=\"sk-toggleable__control sk-hidden--visually\" id=\"sk-estimator-id-5\" type=\"checkbox\" ><label for=\"sk-estimator-id-5\" class=\"sk-toggleable__label sk-toggleable__label-arrow\">estimator: DecisionTreeRegressor</label><div class=\"sk-toggleable__content\"><pre>DecisionTreeRegressor(max_depth=5, random_state=0)</pre></div></div></div><div class=\"sk-serial\"><div class=\"sk-item\"><div class=\"sk-estimator sk-toggleable\"><input class=\"sk-toggleable__control sk-hidden--visually\" id=\"sk-estimator-id-6\" type=\"checkbox\" ><label for=\"sk-estimator-id-6\" class=\"sk-toggleable__label sk-toggleable__label-arrow\">DecisionTreeRegressor</label><div class=\"sk-toggleable__content\"><pre>DecisionTreeRegressor(max_depth=5, random_state=0)</pre></div></div></div></div></div></div></div></div></div></div>"
      ],
      "text/plain": [
       "MultiOutputRegressor(estimator=DecisionTreeRegressor(max_depth=5,\n",
       "                                                     random_state=0))"
      ]
     },
     "execution_count": 66,
     "metadata": {},
     "output_type": "execute_result"
    }
   ],
   "source": [
    "model.fit(X_train, Y_train) #Training the model"
   ]
  },
  {
   "cell_type": "code",
   "execution_count": 67,
   "id": "4ef69e98",
   "metadata": {},
   "outputs": [],
   "source": [
    "Y_pred = model.predict(X_test) "
   ]
  },
  {
   "cell_type": "code",
   "execution_count": 68,
   "id": "7fe2e132",
   "metadata": {},
   "outputs": [
    {
     "data": {
      "text/plain": [
       "array([[1.97      , 0.96      ],\n",
       "       [1.97      , 0.96      ],\n",
       "       [1.79470588, 1.22      ],\n",
       "       [1.70333333, 1.12      ],\n",
       "       [2.528     , 1.568     ],\n",
       "       [1.79470588, 1.22      ],\n",
       "       [2.49333333, 1.70666667],\n",
       "       [1.79470588, 1.22      ],\n",
       "       [2.1       , 0.82      ],\n",
       "       [1.79470588, 1.30857143],\n",
       "       [1.79470588, 1.22      ],\n",
       "       [2.528     , 1.568     ],\n",
       "       [2.528     , 1.568     ],\n",
       "       [1.79470588, 1.17333333],\n",
       "       [2.1       , 0.82      ]])"
      ]
     },
     "execution_count": 68,
     "metadata": {},
     "output_type": "execute_result"
    }
   ],
   "source": [
    "Y_pred "
   ]
  },
  {
   "cell_type": "code",
   "execution_count": 69,
   "id": "85c175fd",
   "metadata": {},
   "outputs": [],
   "source": [
    "Y_test_num = Y_test.to_numpy() #DataFrame to numpy array"
   ]
  },
  {
   "cell_type": "code",
   "execution_count": 70,
   "id": "bc078789",
   "metadata": {},
   "outputs": [
    {
     "data": {
      "text/plain": [
       "array([[1.86, 0.92],\n",
       "       [1.94, 0.94],\n",
       "       [1.8 , 1.28],\n",
       "       [1.8 , 1.2 ],\n",
       "       [2.48, 1.4 ],\n",
       "       [1.96, 1.32],\n",
       "       [2.56, 1.64],\n",
       "       [1.76, 1.2 ],\n",
       "       [2.  , 0.88],\n",
       "       [1.76, 1.32],\n",
       "       [1.76, 1.2 ],\n",
       "       [2.52, 1.36],\n",
       "       [2.48, 1.36],\n",
       "       [1.8 , 1.12],\n",
       "       [2.08, 0.86]])"
      ]
     },
     "execution_count": 70,
     "metadata": {},
     "output_type": "execute_result"
    }
   ],
   "source": [
    "Y_test_num"
   ]
  },
  {
   "cell_type": "code",
   "execution_count": 71,
   "id": "43cfc59b",
   "metadata": {},
   "outputs": [
    {
     "data": {
      "text/plain": [
       "array([0.92, 0.94, 1.28, 1.2 , 1.4 , 1.32, 1.64, 1.2 , 0.88, 1.32, 1.2 ,\n",
       "       1.36, 1.36, 1.12, 0.86])"
      ]
     },
     "execution_count": 71,
     "metadata": {},
     "output_type": "execute_result"
    }
   ],
   "source": [
    "Y_test_num[:,1] #Test data for Depth"
   ]
  },
  {
   "cell_type": "code",
   "execution_count": 72,
   "id": "42d55330",
   "metadata": {},
   "outputs": [
    {
     "data": {
      "image/png": "[encoded data removed]",
      "text/plain": [
       "<Figure size 432x288 with 1 Axes>"
      ]
     },
     "metadata": {
      "needs_background": "light"
     },
     "output_type": "display_data"
    }
   ],
   "source": [
    "ax = plt.axes()  #Plot of predicted Depth against test Depth\n",
    "ax.scatter(Y_test_num[:, 1], Y_pred[:, 1])\n",
    "ax.plot([0.7, 1.8], [0.7,1.8], color = 'r')\n",
    "plt.xlabel(\"Настоящие значения Depth, y_test\")\n",
    "plt.ylabel(\"Предсказанные значения, y_pred\")\n",
    "plt.show()"
   ]
  },
  {
   "cell_type": "code",
   "execution_count": 73,
   "id": "20d84aec",
   "metadata": {},
   "outputs": [
    {
     "data": {
      "image/png": "[encoded data removed]",
      "text/plain": [
       "<Figure size 432x288 with 1 Axes>"
      ]
     },
     "metadata": {
      "needs_background": "light"
     },
     "output_type": "display_data"
    }
   ],
   "source": [
    "ax = plt.axes() #Plot of predicted Width against test Width\n",
    "ax.scatter(Y_test_num[:, 0], Y_pred[:, 0])\n",
    "ax.plot([1.75, 2.7], [1.75, 2.7], color = 'r')\n",
    "plt.xlabel(\"Настоящие значения Width, y_test\")\n",
    "plt.ylabel(\"Предсказанные значения Width, y_pred\")\n",
    "plt.show()"
   ]
  },
  {
   "cell_type": "code",
   "execution_count": 74,
   "id": "aa1c63ec",
   "metadata": {},
   "outputs": [
    {
     "data": {
      "text/plain": [
       "{'estimator__ccp_alpha': 0.0,\n",
       " 'estimator__criterion': 'squared_error',\n",
       " 'estimator__max_depth': 5,\n",
       " 'estimator__max_features': None,\n",
       " 'estimator__max_leaf_nodes': None,\n",
       " 'estimator__min_impurity_decrease': 0.0,\n",
       " 'estimator__min_samples_leaf': 1,\n",
       " 'estimator__min_samples_split': 2,\n",
       " 'estimator__min_weight_fraction_leaf': 0.0,\n",
       " 'estimator__random_state': 0,\n",
       " 'estimator__splitter': 'best',\n",
       " 'estimator': DecisionTreeRegressor(max_depth=5, random_state=0),\n",
       " 'n_jobs': None}"
      ]
     },
     "execution_count": 74,
     "metadata": {},
     "output_type": "execute_result"
    }
   ],
   "source": [
    "model.get_params(deep=True)"
   ]
  },
  {
   "cell_type": "code",
   "execution_count": 75,
   "id": "6d762d28",
   "metadata": {},
   "outputs": [
    {
     "name": "stdout",
     "output_type": "stream",
     "text": [
      "Width Mean Absolute Error: 0.05382222222222223\n",
      "Width Mean Squared Error: 0.0048568389593745985\n",
      "Width Root Mean Squared Error: 0.06969102495568995\n",
      "Width mean: 1.9704166666666667\n"
     ]
    }
   ],
   "source": [
    "print('Width Mean Absolute Error:', metrics.mean_absolute_error(Y_test_num[:, 0], Y_pred[:, 0]))\n",
    "print('Width Mean Squared Error:', metrics.mean_squared_error(Y_test_num[:, 0], Y_pred[:, 0]))\n",
    "print('Width Root Mean Squared Error:', \n",
    "      np.sqrt(metrics.mean_squared_error(Y_test_num[:, 0], Y_pred[:, 0])))\n",
    "print(\"Width mean:\", data[\"Width\"].mean())"
   ]
  },
  {
   "cell_type": "code",
   "execution_count": 76,
   "id": "e1000327",
   "metadata": {},
   "outputs": [
    {
     "data": {
      "text/plain": [
       "0.8642185087084622"
      ]
     },
     "execution_count": 76,
     "metadata": {},
     "output_type": "execute_result"
    }
   ],
   "source": [
    "model.score(X_test,Y_test_num) #The r2 score of our model in general"
   ]
  },
  {
   "cell_type": "code",
   "execution_count": 77,
   "id": "c31a529e",
   "metadata": {},
   "outputs": [
    {
     "data": {
      "text/plain": [
       "0.1652941176470588"
      ]
     },
     "execution_count": 77,
     "metadata": {},
     "output_type": "execute_result"
    }
   ],
   "source": [
    "metrics.max_error(Y_test_num[:, 0], Y_pred[:, 0]) #The worst error of the model for Width"
   ]
  },
  {
   "cell_type": "code",
   "execution_count": 78,
   "id": "e0e4e1b5",
   "metadata": {},
   "outputs": [
    {
     "name": "stdout",
     "output_type": "stream",
     "text": [
      "Depth Mean Absolute Error: 0.07702857142857142\n",
      "Depth Mean Squared Error: 0.010011433408919123\n",
      "Depth Root Mean Squared Error: 0.10005715071357531\n",
      "Depth mean: 1.1955555555555555\n"
     ]
    }
   ],
   "source": [
    "print('Depth Mean Absolute Error:', metrics.mean_absolute_error(Y_test_num[:, 1], Y_pred[:, 1]))\n",
    "print('Depth Mean Squared Error:', metrics.mean_squared_error(Y_test_num[:, 1], Y_pred[:, 1]))\n",
    "print('Depth Root Mean Squared Error:', \n",
    "      np.sqrt(metrics.mean_squared_error(Y_test_num[:, 1], Y_pred[:, 1])))\n",
    "print(\"Depth mean:\", data[\"Depth\"].mean())"
   ]
  },
  {
   "cell_type": "code",
   "execution_count": 79,
   "id": "c6db4487",
   "metadata": {},
   "outputs": [
    {
     "data": {
      "text/plain": [
       "0.20799999999999996"
      ]
     },
     "execution_count": 79,
     "metadata": {},
     "output_type": "execute_result"
    }
   ],
   "source": [
    "metrics.max_error(Y_test_num[:, 1], Y_pred[:, 1]) #The worst error of the model for Depth"
   ]
  },
  {
   "cell_type": "code",
   "execution_count": 80,
   "id": "059fc531",
   "metadata": {},
   "outputs": [
    {
     "data": {
      "text/html": [
       "<div>\n",
       "<style scoped>\n",
       "    .dataframe tbody tr th:only-of-type {\n",
       "        vertical-align: middle;\n",
       "    }\n",
       "\n",
       "    .dataframe tbody tr th {\n",
       "        vertical-align: top;\n",
       "    }\n",
       "\n",
       "    .dataframe thead th {\n",
       "        text-align: right;\n",
       "    }\n",
       "</style>\n",
       "<table border=\"1\" class=\"dataframe\">\n",
       "  <thead>\n",
       "    <tr style=\"text-align: right;\">\n",
       "      <th></th>\n",
       "      <th>model</th>\n",
       "      <th>test_score</th>\n",
       "      <th>cross_val_score</th>\n",
       "      <th>W MAE</th>\n",
       "      <th>W MSE</th>\n",
       "      <th>W RMSE</th>\n",
       "      <th>D MAE</th>\n",
       "      <th>D MSE</th>\n",
       "      <th>D RMSE</th>\n",
       "    </tr>\n",
       "  </thead>\n",
       "  <tbody>\n",
       "    <tr>\n",
       "      <th>0</th>\n",
       "      <td>DecisionTreeRegressor</td>\n",
       "      <td>0.864219</td>\n",
       "      <td>0.911352</td>\n",
       "      <td>0.053822</td>\n",
       "      <td>0.004857</td>\n",
       "      <td>0.069691</td>\n",
       "      <td>0.077029</td>\n",
       "      <td>0.010011</td>\n",
       "      <td>0.100057</td>\n",
       "    </tr>\n",
       "  </tbody>\n",
       "</table>\n",
       "</div>"
      ],
      "text/plain": [
       "                   model  test_score  cross_val_score     W MAE     W MSE  \\\n",
       "0  DecisionTreeRegressor    0.864219         0.911352  0.053822  0.004857   \n",
       "\n",
       "     W RMSE     D MAE     D MSE    D RMSE  \n",
       "0  0.069691  0.077029  0.010011  0.100057  "
      ]
     },
     "execution_count": 80,
     "metadata": {},
     "output_type": "execute_result"
    }
   ],
   "source": [
    "#Saving the results for the first model\n",
    "temp = pd.DataFrame({'model': ['DecisionTreeRegressor'],'test_score': [scores_data1['test_score'].max()], 'cross_val_score': [scores_data1['cross_val_score'].max()], \"W MAE\": [metrics.mean_absolute_error(Y_test_num[:, 0], Y_pred[:, 0])], \"W MSE\": [metrics.mean_squared_error(Y_test_num[:, 0], Y_pred[:, 0])],\n",
    "                     'W RMSE': [np.sqrt(metrics.mean_squared_error(Y_test_num[:, 0], Y_pred[:, 0]))], \"D MAE\": [metrics.mean_absolute_error(Y_test_num[:, 1], Y_pred[:, 1])], \"D MSE\":[metrics.mean_squared_error(Y_test_num[:, 1], Y_pred[:, 1])], 'D RMSE': np.sqrt(metrics.mean_squared_error(Y_test_num[:, 1], Y_pred[:, 1])) })\n",
    "models = pd.concat([models, temp])\n",
    "models"
   ]
  },
  {
   "cell_type": "markdown",
   "id": "07d824fd",
   "metadata": {},
   "source": [
    "### RandomForestRegressor"
   ]
  },
  {
   "cell_type": "markdown",
   "id": "86e847df",
   "metadata": {},
   "source": [
    "Подберем лучший гиперпараметр max_depth"
   ]
  },
  {
   "cell_type": "code",
   "execution_count": 82,
   "id": "336822d7",
   "metadata": {},
   "outputs": [
    {
     "data": {
      "text/html": [
       "<div>\n",
       "<style scoped>\n",
       "    .dataframe tbody tr th:only-of-type {\n",
       "        vertical-align: middle;\n",
       "    }\n",
       "\n",
       "    .dataframe tbody tr th {\n",
       "        vertical-align: top;\n",
       "    }\n",
       "\n",
       "    .dataframe thead th {\n",
       "        text-align: right;\n",
       "    }\n",
       "</style>\n",
       "<table border=\"1\" class=\"dataframe\">\n",
       "  <thead>\n",
       "    <tr style=\"text-align: right;\">\n",
       "      <th></th>\n",
       "      <th>max_depth</th>\n",
       "      <th>train_score</th>\n",
       "      <th>test_score</th>\n",
       "      <th>cross_val_score</th>\n",
       "    </tr>\n",
       "  </thead>\n",
       "  <tbody>\n",
       "    <tr>\n",
       "      <th>0</th>\n",
       "      <td>5</td>\n",
       "      <td>0.964878</td>\n",
       "      <td>0.875369</td>\n",
       "      <td>0.909612</td>\n",
       "    </tr>\n",
       "    <tr>\n",
       "      <th>1</th>\n",
       "      <td>6</td>\n",
       "      <td>0.966140</td>\n",
       "      <td>0.873120</td>\n",
       "      <td>0.908673</td>\n",
       "    </tr>\n",
       "    <tr>\n",
       "      <th>2</th>\n",
       "      <td>7</td>\n",
       "      <td>0.966309</td>\n",
       "      <td>0.872314</td>\n",
       "      <td>0.908294</td>\n",
       "    </tr>\n",
       "    <tr>\n",
       "      <th>3</th>\n",
       "      <td>8</td>\n",
       "      <td>0.966349</td>\n",
       "      <td>0.872738</td>\n",
       "      <td>0.908161</td>\n",
       "    </tr>\n",
       "    <tr>\n",
       "      <th>4</th>\n",
       "      <td>9</td>\n",
       "      <td>0.966344</td>\n",
       "      <td>0.872482</td>\n",
       "      <td>0.908119</td>\n",
       "    </tr>\n",
       "  </tbody>\n",
       "</table>\n",
       "</div>"
      ],
      "text/plain": [
       "   max_depth  train_score  test_score  cross_val_score\n",
       "0          5     0.964878    0.875369         0.909612\n",
       "1          6     0.966140    0.873120         0.908673\n",
       "2          7     0.966309    0.872314         0.908294\n",
       "3          8     0.966349    0.872738         0.908161\n",
       "4          9     0.966344    0.872482         0.908119"
      ]
     },
     "execution_count": 82,
     "metadata": {},
     "output_type": "execute_result"
    }
   ],
   "source": [
    "scores_data2 = pd.DataFrame()\n",
    "max_depth_values = range(5, 50)\n",
    "for max_depth in max_depth_values:\n",
    "    clf = MultiOutputRegressor(RandomForestRegressor(max_depth = max_depth, random_state=random_state))\n",
    "    clf.fit(X_train,Y_train)\n",
    "    train_score = clf.score(X_train,Y_train)\n",
    "    test_score = clf.score(X_test,Y_test)\n",
    "    mean_cross_val_score = cross_val_score(clf, X_train,Y_train, cv = 5).mean() \n",
    "    temp = pd.DataFrame({'max_depth':[max_depth],'train_score':[train_score], 'test_score':[test_score],'cross_val_score':[mean_cross_val_score]})\n",
    "    scores_data2 = pd.concat([scores_data2, temp])\n",
    "scores_data2.reset_index(inplace=True)\n",
    "scores_data2 = scores_data2.drop(['index'], axis = 1)\n",
    "scores_data2.head()"
   ]
  },
  {
   "cell_type": "code",
   "execution_count": 83,
   "id": "2010489a",
   "metadata": {},
   "outputs": [
    {
     "data": {
      "text/plain": [
       "0.9096124832332547"
      ]
     },
     "execution_count": 83,
     "metadata": {},
     "output_type": "execute_result"
    }
   ],
   "source": [
    "scores_data2['cross_val_score'].max() #Best cross validation score for RandomForestRegressor is at max_depth = 5"
   ]
  },
  {
   "cell_type": "code",
   "execution_count": 85,
   "id": "8d9d6839",
   "metadata": {},
   "outputs": [
    {
     "data": {
      "text/plain": [
       "<matplotlib.legend.Legend at 0x7f98e14ab160>"
      ]
     },
     "execution_count": 85,
     "metadata": {},
     "output_type": "execute_result"
    },
    {
     "data": {
      "image/png": "[encoded data removed]",
      "text/plain": [
       "<Figure size 432x288 with 1 Axes>"
      ]
     },
     "metadata": {
      "needs_background": "light"
     },
     "output_type": "display_data"
    }
   ],
   "source": [
    "plt.plot(scores_data2['test_score'], label = 'test_score')\n",
    "plt.plot(scores_data2['cross_val_score'], label = 'cross_val_score')\n",
    "plt.legend()"
   ]
  },
  {
   "cell_type": "code",
   "execution_count": 88,
   "id": "eb2c6f55",
   "metadata": {},
   "outputs": [],
   "source": [
    "model2 = MultiOutputRegressor(RandomForestRegressor(max_depth = 5, random_state=random_state))"
   ]
  },
  {
   "cell_type": "code",
   "execution_count": 89,
   "id": "c8017a99",
   "metadata": {},
   "outputs": [
    {
     "data": {
      "text/html": [
       "<style>#sk-container-id-3 {color: black;}#sk-container-id-3 pre{padding: 0;}#sk-container-id-3 div.sk-toggleable {background-color: white;}#sk-container-id-3 label.sk-toggleable__label {cursor: pointer;display: block;width: 100%;margin-bottom: 0;padding: 0.3em;box-sizing: border-box;text-align: center;}#sk-container-id-3 label.sk-toggleable__label-arrow:before {content: \"▸\";float: left;margin-right: 0.25em;color: #696969;}#sk-container-id-3 label.sk-toggleable__label-arrow:hover:before {color: black;}#sk-container-id-3 div.sk-estimator:hover label.sk-toggleable__label-arrow:before {color: black;}#sk-container-id-3 div.sk-toggleable__content {max-height: 0;max-width: 0;overflow: hidden;text-align: left;background-color: #f0f8ff;}#sk-container-id-3 div.sk-toggleable__content pre {margin: 0.2em;color: black;border-radius: 0.25em;background-color: #f0f8ff;}#sk-container-id-3 input.sk-toggleable__control:checked~div.sk-toggleable__content {max-height: 200px;max-width: 100%;overflow: auto;}#sk-container-id-3 input.sk-toggleable__control:checked~label.sk-toggleable__label-arrow:before {content: \"▾\";}#sk-container-id-3 div.sk-estimator input.sk-toggleable__control:checked~label.sk-toggleable__label {background-color: #d4ebff;}#sk-container-id-3 div.sk-label input.sk-toggleable__control:checked~label.sk-toggleable__label {background-color: #d4ebff;}#sk-container-id-3 input.sk-hidden--visually {border: 0;clip: rect(1px 1px 1px 1px);clip: rect(1px, 1px, 1px, 1px);height: 1px;margin: -1px;overflow: hidden;padding: 0;position: absolute;width: 1px;}#sk-container-id-3 div.sk-estimator {font-family: monospace;background-color: #f0f8ff;border: 1px dotted black;border-radius: 0.25em;box-sizing: border-box;margin-bottom: 0.5em;}#sk-container-id-3 div.sk-estimator:hover {background-color: #d4ebff;}#sk-container-id-3 div.sk-parallel-item::after {content: \"\";width: 100%;border-bottom: 1px solid gray;flex-grow: 1;}#sk-container-id-3 div.sk-label:hover label.sk-toggleable__label {background-color: #d4ebff;}#sk-container-id-3 div.sk-serial::before {content: \"\";position: absolute;border-left: 1px solid gray;box-sizing: border-box;top: 0;bottom: 0;left: 50%;z-index: 0;}#sk-container-id-3 div.sk-serial {display: flex;flex-direction: column;align-items: center;background-color: white;padding-right: 0.2em;padding-left: 0.2em;position: relative;}#sk-container-id-3 div.sk-item {position: relative;z-index: 1;}#sk-container-id-3 div.sk-parallel {display: flex;align-items: stretch;justify-content: center;background-color: white;position: relative;}#sk-container-id-3 div.sk-item::before, #sk-container-id-3 div.sk-parallel-item::before {content: \"\";position: absolute;border-left: 1px solid gray;box-sizing: border-box;top: 0;bottom: 0;left: 50%;z-index: -1;}#sk-container-id-3 div.sk-parallel-item {display: flex;flex-direction: column;z-index: 1;position: relative;background-color: white;}#sk-container-id-3 div.sk-parallel-item:first-child::after {align-self: flex-end;width: 50%;}#sk-container-id-3 div.sk-parallel-item:last-child::after {align-self: flex-start;width: 50%;}#sk-container-id-3 div.sk-parallel-item:only-child::after {width: 0;}#sk-container-id-3 div.sk-dashed-wrapped {border: 1px dashed gray;margin: 0 0.4em 0.5em 0.4em;box-sizing: border-box;padding-bottom: 0.4em;background-color: white;}#sk-container-id-3 div.sk-label label {font-family: monospace;font-weight: bold;display: inline-block;line-height: 1.2em;}#sk-container-id-3 div.sk-label-container {text-align: center;}#sk-container-id-3 div.sk-container {/* jupyter's `normalize.less` sets `[hidden] { display: none; }` but bootstrap.min.css set `[hidden] { display: none !important; }` so we also need the `!important` here to be able to override the default hidden behavior on the sphinx rendered scikit-learn.org. See: https://github.com/scikit-learn/scikit-learn/issues/21755 */display: inline-block !important;position: relative;}#sk-container-id-3 div.sk-text-repr-fallback {display: none;}</style><div id=\"sk-container-id-3\" class=\"sk-top-container\"><div class=\"sk-text-repr-fallback\"><pre>MultiOutputRegressor(estimator=RandomForestRegressor(max_depth=5,\n",
       "                                                     random_state=0))</pre><b>In a Jupyter environment, please rerun this cell to show the HTML representation or trust the notebook. <br />On GitHub, the HTML representation is unable to render, please try loading this page with nbviewer.org.</b></div><div class=\"sk-container\" hidden><div class=\"sk-item sk-dashed-wrapped\"><div class=\"sk-label-container\"><div class=\"sk-label sk-toggleable\"><input class=\"sk-toggleable__control sk-hidden--visually\" id=\"sk-estimator-id-7\" type=\"checkbox\" ><label for=\"sk-estimator-id-7\" class=\"sk-toggleable__label sk-toggleable__label-arrow\">MultiOutputRegressor</label><div class=\"sk-toggleable__content\"><pre>MultiOutputRegressor(estimator=RandomForestRegressor(max_depth=5,\n",
       "                                                     random_state=0))</pre></div></div></div><div class=\"sk-parallel\"><div class=\"sk-parallel-item\"><div class=\"sk-item\"><div class=\"sk-label-container\"><div class=\"sk-label sk-toggleable\"><input class=\"sk-toggleable__control sk-hidden--visually\" id=\"sk-estimator-id-8\" type=\"checkbox\" ><label for=\"sk-estimator-id-8\" class=\"sk-toggleable__label sk-toggleable__label-arrow\">estimator: RandomForestRegressor</label><div class=\"sk-toggleable__content\"><pre>RandomForestRegressor(max_depth=5, random_state=0)</pre></div></div></div><div class=\"sk-serial\"><div class=\"sk-item\"><div class=\"sk-estimator sk-toggleable\"><input class=\"sk-toggleable__control sk-hidden--visually\" id=\"sk-estimator-id-9\" type=\"checkbox\" ><label for=\"sk-estimator-id-9\" class=\"sk-toggleable__label sk-toggleable__label-arrow\">RandomForestRegressor</label><div class=\"sk-toggleable__content\"><pre>RandomForestRegressor(max_depth=5, random_state=0)</pre></div></div></div></div></div></div></div></div></div></div>"
      ],
      "text/plain": [
       "MultiOutputRegressor(estimator=RandomForestRegressor(max_depth=5,\n",
       "                                                     random_state=0))"
      ]
     },
     "execution_count": 89,
     "metadata": {},
     "output_type": "execute_result"
    }
   ],
   "source": [
    "model2.fit(X_train, Y_train)"
   ]
  },
  {
   "cell_type": "code",
   "execution_count": 90,
   "id": "461f76ba",
   "metadata": {},
   "outputs": [],
   "source": [
    "y_pred_model2 = model2.predict(X_test)"
   ]
  },
  {
   "cell_type": "code",
   "execution_count": 91,
   "id": "510fd6db",
   "metadata": {},
   "outputs": [
    {
     "data": {
      "image/png": "[encoded data removed]",
      "text/plain": [
       "<Figure size 432x288 with 1 Axes>"
      ]
     },
     "metadata": {
      "needs_background": "light"
     },
     "output_type": "display_data"
    }
   ],
   "source": [
    "ax = plt.axes()\n",
    "ax.scatter(Y_test_num[:, 1], y_pred_model2[:, 1])\n",
    "ax.plot([0.7, 1.8], [0.7,1.8], color = 'r')\n",
    "plt.xlabel(\"Настоящие значения Depth, y_test\")\n",
    "plt.ylabel(\"Предсказанные значения, y_pred_model2\")\n",
    "plt.show()"
   ]
  },
  {
   "cell_type": "code",
   "execution_count": 92,
   "id": "e761d1ab",
   "metadata": {},
   "outputs": [
    {
     "data": {
      "image/png": "[encoded data removed]",
      "text/plain": [
       "<Figure size 432x288 with 1 Axes>"
      ]
     },
     "metadata": {
      "needs_background": "light"
     },
     "output_type": "display_data"
    }
   ],
   "source": [
    "ax = plt.axes()\n",
    "ax.scatter(Y_test_num[:, 0], y_pred_model2[:, 0])\n",
    "ax.plot([1.75, 2.7], [1.75, 2.7], color = 'r')\n",
    "plt.xlabel(\"Настоящие значения Width, y_test\")\n",
    "plt.ylabel(\"Предсказанные значения Width, y_pred\")\n",
    "plt.show()"
   ]
  },
  {
   "cell_type": "code",
   "execution_count": 93,
   "id": "3bd4328b",
   "metadata": {},
   "outputs": [
    {
     "data": {
      "text/plain": [
       "0.8753692283715393"
      ]
     },
     "execution_count": 93,
     "metadata": {},
     "output_type": "execute_result"
    }
   ],
   "source": [
    "model2.score(X_test,Y_test_num) #model r2 score"
   ]
  },
  {
   "cell_type": "code",
   "execution_count": 94,
   "id": "3a085574",
   "metadata": {},
   "outputs": [
    {
     "data": {
      "text/plain": [
       "0.18136301584139503"
      ]
     },
     "execution_count": 94,
     "metadata": {},
     "output_type": "execute_result"
    }
   ],
   "source": [
    "metrics.max_error(Y_test_num[:, 0],  y_pred_model2[:, 0]) #Worst error for Width"
   ]
  },
  {
   "cell_type": "code",
   "execution_count": 95,
   "id": "ff4c172b",
   "metadata": {},
   "outputs": [
    {
     "name": "stdout",
     "output_type": "stream",
     "text": [
      "Width Mean Absolute Error: 0.05267914643576317\n",
      "Width Mean Squared Error: 0.005222393890508461\n",
      "Width Root Mean Squared Error: 0.07226613238930434\n",
      "Width mean: 1.9704166666666667\n"
     ]
    }
   ],
   "source": [
    "print('Width Mean Absolute Error:', metrics.mean_absolute_error(Y_test_num[:, 0], y_pred_model2[:, 0]))\n",
    "print('Width Mean Squared Error:', metrics.mean_squared_error(Y_test_num[:, 0], y_pred_model2[:, 0]))\n",
    "print('Width Root Mean Squared Error:', \n",
    "      np.sqrt(metrics.mean_squared_error(Y_test_num[:, 0], y_pred_model2[:, 0])))\n",
    "print(\"Width mean:\", data[\"Width\"].mean())"
   ]
  },
  {
   "cell_type": "code",
   "execution_count": 96,
   "id": "640e7931",
   "metadata": {},
   "outputs": [
    {
     "name": "stdout",
     "output_type": "stream",
     "text": [
      "Depth Mean Absolute Error: 0.07068105176305156\n",
      "Depth Mean Squared Error: 0.008797732808897013\n",
      "Depth Root Mean Squared Error: 0.09379623024885922\n",
      "Depth mean: 1.1955555555555555\n"
     ]
    }
   ],
   "source": [
    "print('Depth Mean Absolute Error:', metrics.mean_absolute_error(Y_test_num[:, 1], y_pred_model2[:, 1]))\n",
    "print('Depth Mean Squared Error:', metrics.mean_squared_error(Y_test_num[:, 1], y_pred_model2[:, 1]))\n",
    "print('Depth Root Mean Squared Error:', \n",
    "      np.sqrt(metrics.mean_squared_error(Y_test_num[:, 1], y_pred_model2[:, 1])))\n",
    "print(\"Depth mean:\", data[\"Depth\"].mean())"
   ]
  },
  {
   "cell_type": "code",
   "execution_count": 97,
   "id": "f072b460",
   "metadata": {},
   "outputs": [
    {
     "data": {
      "text/plain": [
       "0.1955436507936501"
      ]
     },
     "execution_count": 97,
     "metadata": {},
     "output_type": "execute_result"
    }
   ],
   "source": [
    "metrics.max_error(Y_test_num[:, 1], y_pred_model2[:, 1]) #Worst error for Depth"
   ]
  },
  {
   "cell_type": "code",
   "execution_count": 98,
   "id": "ae56dbf0",
   "metadata": {},
   "outputs": [
    {
     "data": {
      "text/html": [
       "<div>\n",
       "<style scoped>\n",
       "    .dataframe tbody tr th:only-of-type {\n",
       "        vertical-align: middle;\n",
       "    }\n",
       "\n",
       "    .dataframe tbody tr th {\n",
       "        vertical-align: top;\n",
       "    }\n",
       "\n",
       "    .dataframe thead th {\n",
       "        text-align: right;\n",
       "    }\n",
       "</style>\n",
       "<table border=\"1\" class=\"dataframe\">\n",
       "  <thead>\n",
       "    <tr style=\"text-align: right;\">\n",
       "      <th></th>\n",
       "      <th>model</th>\n",
       "      <th>test_score</th>\n",
       "      <th>cross_val_score</th>\n",
       "      <th>W MAE</th>\n",
       "      <th>W MSE</th>\n",
       "      <th>W RMSE</th>\n",
       "      <th>D MAE</th>\n",
       "      <th>D MSE</th>\n",
       "      <th>D RMSE</th>\n",
       "    </tr>\n",
       "  </thead>\n",
       "  <tbody>\n",
       "    <tr>\n",
       "      <th>0</th>\n",
       "      <td>DecisionTreeRegressor</td>\n",
       "      <td>0.864219</td>\n",
       "      <td>0.911352</td>\n",
       "      <td>0.053822</td>\n",
       "      <td>0.004857</td>\n",
       "      <td>0.069691</td>\n",
       "      <td>0.077029</td>\n",
       "      <td>0.010011</td>\n",
       "      <td>0.100057</td>\n",
       "    </tr>\n",
       "    <tr>\n",
       "      <th>0</th>\n",
       "      <td>RandomForestRegressor</td>\n",
       "      <td>0.875369</td>\n",
       "      <td>0.909612</td>\n",
       "      <td>0.052679</td>\n",
       "      <td>0.005222</td>\n",
       "      <td>0.072266</td>\n",
       "      <td>0.070681</td>\n",
       "      <td>0.008798</td>\n",
       "      <td>0.093796</td>\n",
       "    </tr>\n",
       "  </tbody>\n",
       "</table>\n",
       "</div>"
      ],
      "text/plain": [
       "                   model  test_score  cross_val_score     W MAE     W MSE  \\\n",
       "0  DecisionTreeRegressor    0.864219         0.911352  0.053822  0.004857   \n",
       "0  RandomForestRegressor    0.875369         0.909612  0.052679  0.005222   \n",
       "\n",
       "     W RMSE     D MAE     D MSE    D RMSE  \n",
       "0  0.069691  0.077029  0.010011  0.100057  \n",
       "0  0.072266  0.070681  0.008798  0.093796  "
      ]
     },
     "execution_count": 98,
     "metadata": {},
     "output_type": "execute_result"
    }
   ],
   "source": [
    "temp = pd.DataFrame({'model': ['RandomForestRegressor'],'test_score': [scores_data2['test_score'].max()], 'cross_val_score': [scores_data2['cross_val_score'].max()], \"W MAE\": [metrics.mean_absolute_error(Y_test_num[:, 0], y_pred_model2[:, 0])], \"W MSE\": [metrics.mean_squared_error(Y_test_num[:, 0], y_pred_model2[:, 0])],\n",
    "                     'W RMSE': [np.sqrt(metrics.mean_squared_error(Y_test_num[:, 0], y_pred_model2[:, 0]))], \"D MAE\": [metrics.mean_absolute_error(Y_test_num[:, 1], y_pred_model2[:, 1])], \"D MSE\":[metrics.mean_squared_error(Y_test_num[:, 1], y_pred_model2[:, 1])], 'D RMSE': np.sqrt(metrics.mean_squared_error(Y_test_num[:, 1], y_pred_model2[:, 1])) })\n",
    "models = pd.concat([models, temp])\n",
    "models\n"
   ]
  },
  {
   "cell_type": "markdown",
   "id": "ef8af20d",
   "metadata": {},
   "source": [
    "### KNeighborsRegressor"
   ]
  },
  {
   "cell_type": "markdown",
   "id": "43f8389e",
   "metadata": {},
   "source": [
    "Подберем гиперпараметр n_neighbors"
   ]
  },
  {
   "cell_type": "code",
   "execution_count": 99,
   "id": "dd40818d",
   "metadata": {},
   "outputs": [
    {
     "data": {
      "text/html": [
       "<div>\n",
       "<style scoped>\n",
       "    .dataframe tbody tr th:only-of-type {\n",
       "        vertical-align: middle;\n",
       "    }\n",
       "\n",
       "    .dataframe tbody tr th {\n",
       "        vertical-align: top;\n",
       "    }\n",
       "\n",
       "    .dataframe thead th {\n",
       "        text-align: right;\n",
       "    }\n",
       "</style>\n",
       "<table border=\"1\" class=\"dataframe\">\n",
       "  <thead>\n",
       "    <tr style=\"text-align: right;\">\n",
       "      <th></th>\n",
       "      <th>n_neighbors</th>\n",
       "      <th>train_score</th>\n",
       "      <th>test_score</th>\n",
       "      <th>cross_val_score</th>\n",
       "    </tr>\n",
       "  </thead>\n",
       "  <tbody>\n",
       "    <tr>\n",
       "      <th>0</th>\n",
       "      <td>2</td>\n",
       "      <td>0.956114</td>\n",
       "      <td>0.785164</td>\n",
       "      <td>0.894730</td>\n",
       "    </tr>\n",
       "    <tr>\n",
       "      <th>1</th>\n",
       "      <td>3</td>\n",
       "      <td>0.960403</td>\n",
       "      <td>0.886732</td>\n",
       "      <td>0.891402</td>\n",
       "    </tr>\n",
       "    <tr>\n",
       "      <th>2</th>\n",
       "      <td>4</td>\n",
       "      <td>0.960281</td>\n",
       "      <td>0.871463</td>\n",
       "      <td>0.884677</td>\n",
       "    </tr>\n",
       "    <tr>\n",
       "      <th>3</th>\n",
       "      <td>5</td>\n",
       "      <td>0.950835</td>\n",
       "      <td>0.855129</td>\n",
       "      <td>0.866972</td>\n",
       "    </tr>\n",
       "    <tr>\n",
       "      <th>4</th>\n",
       "      <td>6</td>\n",
       "      <td>0.941948</td>\n",
       "      <td>0.812915</td>\n",
       "      <td>0.827745</td>\n",
       "    </tr>\n",
       "  </tbody>\n",
       "</table>\n",
       "</div>"
      ],
      "text/plain": [
       "   n_neighbors  train_score  test_score  cross_val_score\n",
       "0            2     0.956114    0.785164         0.894730\n",
       "1            3     0.960403    0.886732         0.891402\n",
       "2            4     0.960281    0.871463         0.884677\n",
       "3            5     0.950835    0.855129         0.866972\n",
       "4            6     0.941948    0.812915         0.827745"
      ]
     },
     "execution_count": 99,
     "metadata": {},
     "output_type": "execute_result"
    }
   ],
   "source": [
    "scores_data3 = pd.DataFrame()\n",
    "max_n_neighbors = range(2, 30)\n",
    "for n_neighbors in max_n_neighbors:\n",
    "    clf = MultiOutputRegressor(KNeighborsRegressor(n_neighbors=n_neighbors))\n",
    "    clf.fit(X_train,Y_train)\n",
    "    train_score = clf.score(X_train,Y_train)\n",
    "    test_score = clf.score(X_test,Y_test)\n",
    "    mean_cross_val_score = cross_val_score(clf, X_train,Y_train, cv = 5).mean() \n",
    "    temp = pd.DataFrame({'n_neighbors':[n_neighbors],'train_score':[train_score], 'test_score':[test_score],'cross_val_score':[mean_cross_val_score]})\n",
    "    scores_data3 = pd.concat([scores_data3, temp])\n",
    "scores_data3.reset_index(inplace=True)\n",
    "scores_data3 = scores_data3.drop(['index'], axis = 1)\n",
    "scores_data3.head()"
   ]
  },
  {
   "cell_type": "code",
   "execution_count": 100,
   "id": "bd9bc12a",
   "metadata": {},
   "outputs": [
    {
     "data": {
      "text/plain": [
       "<matplotlib.legend.Legend at 0x7f98e164d3d0>"
      ]
     },
     "execution_count": 100,
     "metadata": {},
     "output_type": "execute_result"
    },
    {
     "data": {
      "image/png": "[encoded data removed]",
      "text/plain": [
       "<Figure size 1080x360 with 1 Axes>"
      ]
     },
     "metadata": {
      "needs_background": "light"
     },
     "output_type": "display_data"
    }
   ],
   "source": [
    "plt.figure(figsize = (15,5))\n",
    "plt.plot(scores_data3['test_score'], label = 'test_score')\n",
    "plt.plot(scores_data3['cross_val_score'], label = 'cross_val_score')\n",
    "plt.legend()"
   ]
  },
  {
   "cell_type": "markdown",
   "id": "d1e6ed7d",
   "metadata": {},
   "source": [
    "На этом графике хорошо видна точка, с которой начинается переобучение модели."
   ]
  },
  {
   "cell_type": "code",
   "execution_count": 101,
   "id": "9f11838c",
   "metadata": {},
   "outputs": [
    {
     "data": {
      "text/html": [
       "<div>\n",
       "<style scoped>\n",
       "    .dataframe tbody tr th:only-of-type {\n",
       "        vertical-align: middle;\n",
       "    }\n",
       "\n",
       "    .dataframe tbody tr th {\n",
       "        vertical-align: top;\n",
       "    }\n",
       "\n",
       "    .dataframe thead th {\n",
       "        text-align: right;\n",
       "    }\n",
       "</style>\n",
       "<table border=\"1\" class=\"dataframe\">\n",
       "  <thead>\n",
       "    <tr style=\"text-align: right;\">\n",
       "      <th></th>\n",
       "      <th>n_neighbors</th>\n",
       "      <th>train_score</th>\n",
       "      <th>test_score</th>\n",
       "      <th>cross_val_score</th>\n",
       "    </tr>\n",
       "  </thead>\n",
       "  <tbody>\n",
       "    <tr>\n",
       "      <th>0</th>\n",
       "      <td>2</td>\n",
       "      <td>0.956114</td>\n",
       "      <td>0.785164</td>\n",
       "      <td>0.894730</td>\n",
       "    </tr>\n",
       "    <tr>\n",
       "      <th>1</th>\n",
       "      <td>3</td>\n",
       "      <td>0.960403</td>\n",
       "      <td>0.886732</td>\n",
       "      <td>0.891402</td>\n",
       "    </tr>\n",
       "    <tr>\n",
       "      <th>2</th>\n",
       "      <td>4</td>\n",
       "      <td>0.960281</td>\n",
       "      <td>0.871463</td>\n",
       "      <td>0.884677</td>\n",
       "    </tr>\n",
       "    <tr>\n",
       "      <th>3</th>\n",
       "      <td>5</td>\n",
       "      <td>0.950835</td>\n",
       "      <td>0.855129</td>\n",
       "      <td>0.866972</td>\n",
       "    </tr>\n",
       "    <tr>\n",
       "      <th>4</th>\n",
       "      <td>6</td>\n",
       "      <td>0.941948</td>\n",
       "      <td>0.812915</td>\n",
       "      <td>0.827745</td>\n",
       "    </tr>\n",
       "  </tbody>\n",
       "</table>\n",
       "</div>"
      ],
      "text/plain": [
       "   n_neighbors  train_score  test_score  cross_val_score\n",
       "0            2     0.956114    0.785164         0.894730\n",
       "1            3     0.960403    0.886732         0.891402\n",
       "2            4     0.960281    0.871463         0.884677\n",
       "3            5     0.950835    0.855129         0.866972\n",
       "4            6     0.941948    0.812915         0.827745"
      ]
     },
     "execution_count": 101,
     "metadata": {},
     "output_type": "execute_result"
    }
   ],
   "source": [
    "scores_data3.loc[0:4,:]"
   ]
  },
  {
   "cell_type": "code",
   "execution_count": 102,
   "id": "eda98417",
   "metadata": {},
   "outputs": [
    {
     "data": {
      "text/plain": [
       "0.8947303558666226"
      ]
     },
     "execution_count": 102,
     "metadata": {},
     "output_type": "execute_result"
    }
   ],
   "source": [
    "scores_data3['cross_val_score'].max() "
   ]
  },
  {
   "cell_type": "code",
   "execution_count": null,
   "id": "037885fc",
   "metadata": {},
   "outputs": [],
   "source": [
    "Лучший результат достигается при n_neighbors=2,но он почти неотличим от результата при n_neighbors=3,\n",
    "а брать двух соседей плохо, так как велика вероятность случаев, когда два разных соседа приведут к неопределенности"
   ]
  },
  {
   "cell_type": "code",
   "execution_count": 103,
   "id": "050cf5e9",
   "metadata": {},
   "outputs": [],
   "source": [
    "model3 = MultiOutputRegressor(KNeighborsRegressor(n_neighbors=3))"
   ]
  },
  {
   "cell_type": "code",
   "execution_count": 104,
   "id": "322d11c8",
   "metadata": {},
   "outputs": [
    {
     "data": {
      "text/html": [
       "<style>#sk-container-id-4 {color: black;}#sk-container-id-4 pre{padding: 0;}#sk-container-id-4 div.sk-toggleable {background-color: white;}#sk-container-id-4 label.sk-toggleable__label {cursor: pointer;display: block;width: 100%;margin-bottom: 0;padding: 0.3em;box-sizing: border-box;text-align: center;}#sk-container-id-4 label.sk-toggleable__label-arrow:before {content: \"▸\";float: left;margin-right: 0.25em;color: #696969;}#sk-container-id-4 label.sk-toggleable__label-arrow:hover:before {color: black;}#sk-container-id-4 div.sk-estimator:hover label.sk-toggleable__label-arrow:before {color: black;}#sk-container-id-4 div.sk-toggleable__content {max-height: 0;max-width: 0;overflow: hidden;text-align: left;background-color: #f0f8ff;}#sk-container-id-4 div.sk-toggleable__content pre {margin: 0.2em;color: black;border-radius: 0.25em;background-color: #f0f8ff;}#sk-container-id-4 input.sk-toggleable__control:checked~div.sk-toggleable__content {max-height: 200px;max-width: 100%;overflow: auto;}#sk-container-id-4 input.sk-toggleable__control:checked~label.sk-toggleable__label-arrow:before {content: \"▾\";}#sk-container-id-4 div.sk-estimator input.sk-toggleable__control:checked~label.sk-toggleable__label {background-color: #d4ebff;}#sk-container-id-4 div.sk-label input.sk-toggleable__control:checked~label.sk-toggleable__label {background-color: #d4ebff;}#sk-container-id-4 input.sk-hidden--visually {border: 0;clip: rect(1px 1px 1px 1px);clip: rect(1px, 1px, 1px, 1px);height: 1px;margin: -1px;overflow: hidden;padding: 0;position: absolute;width: 1px;}#sk-container-id-4 div.sk-estimator {font-family: monospace;background-color: #f0f8ff;border: 1px dotted black;border-radius: 0.25em;box-sizing: border-box;margin-bottom: 0.5em;}#sk-container-id-4 div.sk-estimator:hover {background-color: #d4ebff;}#sk-container-id-4 div.sk-parallel-item::after {content: \"\";width: 100%;border-bottom: 1px solid gray;flex-grow: 1;}#sk-container-id-4 div.sk-label:hover label.sk-toggleable__label {background-color: #d4ebff;}#sk-container-id-4 div.sk-serial::before {content: \"\";position: absolute;border-left: 1px solid gray;box-sizing: border-box;top: 0;bottom: 0;left: 50%;z-index: 0;}#sk-container-id-4 div.sk-serial {display: flex;flex-direction: column;align-items: center;background-color: white;padding-right: 0.2em;padding-left: 0.2em;position: relative;}#sk-container-id-4 div.sk-item {position: relative;z-index: 1;}#sk-container-id-4 div.sk-parallel {display: flex;align-items: stretch;justify-content: center;background-color: white;position: relative;}#sk-container-id-4 div.sk-item::before, #sk-container-id-4 div.sk-parallel-item::before {content: \"\";position: absolute;border-left: 1px solid gray;box-sizing: border-box;top: 0;bottom: 0;left: 50%;z-index: -1;}#sk-container-id-4 div.sk-parallel-item {display: flex;flex-direction: column;z-index: 1;position: relative;background-color: white;}#sk-container-id-4 div.sk-parallel-item:first-child::after {align-self: flex-end;width: 50%;}#sk-container-id-4 div.sk-parallel-item:last-child::after {align-self: flex-start;width: 50%;}#sk-container-id-4 div.sk-parallel-item:only-child::after {width: 0;}#sk-container-id-4 div.sk-dashed-wrapped {border: 1px dashed gray;margin: 0 0.4em 0.5em 0.4em;box-sizing: border-box;padding-bottom: 0.4em;background-color: white;}#sk-container-id-4 div.sk-label label {font-family: monospace;font-weight: bold;display: inline-block;line-height: 1.2em;}#sk-container-id-4 div.sk-label-container {text-align: center;}#sk-container-id-4 div.sk-container {/* jupyter's `normalize.less` sets `[hidden] { display: none; }` but bootstrap.min.css set `[hidden] { display: none !important; }` so we also need the `!important` here to be able to override the default hidden behavior on the sphinx rendered scikit-learn.org. See: https://github.com/scikit-learn/scikit-learn/issues/21755 */display: inline-block !important;position: relative;}#sk-container-id-4 div.sk-text-repr-fallback {display: none;}</style><div id=\"sk-container-id-4\" class=\"sk-top-container\"><div class=\"sk-text-repr-fallback\"><pre>MultiOutputRegressor(estimator=KNeighborsRegressor(n_neighbors=3))</pre><b>In a Jupyter environment, please rerun this cell to show the HTML representation or trust the notebook. <br />On GitHub, the HTML representation is unable to render, please try loading this page with nbviewer.org.</b></div><div class=\"sk-container\" hidden><div class=\"sk-item sk-dashed-wrapped\"><div class=\"sk-label-container\"><div class=\"sk-label sk-toggleable\"><input class=\"sk-toggleable__control sk-hidden--visually\" id=\"sk-estimator-id-10\" type=\"checkbox\" ><label for=\"sk-estimator-id-10\" class=\"sk-toggleable__label sk-toggleable__label-arrow\">MultiOutputRegressor</label><div class=\"sk-toggleable__content\"><pre>MultiOutputRegressor(estimator=KNeighborsRegressor(n_neighbors=3))</pre></div></div></div><div class=\"sk-parallel\"><div class=\"sk-parallel-item\"><div class=\"sk-item\"><div class=\"sk-label-container\"><div class=\"sk-label sk-toggleable\"><input class=\"sk-toggleable__control sk-hidden--visually\" id=\"sk-estimator-id-11\" type=\"checkbox\" ><label for=\"sk-estimator-id-11\" class=\"sk-toggleable__label sk-toggleable__label-arrow\">estimator: KNeighborsRegressor</label><div class=\"sk-toggleable__content\"><pre>KNeighborsRegressor(n_neighbors=3)</pre></div></div></div><div class=\"sk-serial\"><div class=\"sk-item\"><div class=\"sk-estimator sk-toggleable\"><input class=\"sk-toggleable__control sk-hidden--visually\" id=\"sk-estimator-id-12\" type=\"checkbox\" ><label for=\"sk-estimator-id-12\" class=\"sk-toggleable__label sk-toggleable__label-arrow\">KNeighborsRegressor</label><div class=\"sk-toggleable__content\"><pre>KNeighborsRegressor(n_neighbors=3)</pre></div></div></div></div></div></div></div></div></div></div>"
      ],
      "text/plain": [
       "MultiOutputRegressor(estimator=KNeighborsRegressor(n_neighbors=3))"
      ]
     },
     "execution_count": 104,
     "metadata": {},
     "output_type": "execute_result"
    }
   ],
   "source": [
    "model3.fit(X_train, Y_train)"
   ]
  },
  {
   "cell_type": "code",
   "execution_count": 105,
   "id": "9d25e25c",
   "metadata": {},
   "outputs": [],
   "source": [
    "y_pred_model3 = model3.predict(X_test)"
   ]
  },
  {
   "cell_type": "code",
   "execution_count": 106,
   "id": "722087f1",
   "metadata": {},
   "outputs": [
    {
     "data": {
      "text/plain": [
       "0.8867322498035627"
      ]
     },
     "execution_count": 106,
     "metadata": {},
     "output_type": "execute_result"
    }
   ],
   "source": [
    "model3.score(X_test,Y_test_num) "
   ]
  },
  {
   "cell_type": "code",
   "execution_count": 107,
   "id": "fd61064a",
   "metadata": {},
   "outputs": [
    {
     "data": {
      "text/html": [
       "<div>\n",
       "<style scoped>\n",
       "    .dataframe tbody tr th:only-of-type {\n",
       "        vertical-align: middle;\n",
       "    }\n",
       "\n",
       "    .dataframe tbody tr th {\n",
       "        vertical-align: top;\n",
       "    }\n",
       "\n",
       "    .dataframe thead th {\n",
       "        text-align: right;\n",
       "    }\n",
       "</style>\n",
       "<table border=\"1\" class=\"dataframe\">\n",
       "  <thead>\n",
       "    <tr style=\"text-align: right;\">\n",
       "      <th></th>\n",
       "      <th>model</th>\n",
       "      <th>test_score</th>\n",
       "      <th>cross_val_score</th>\n",
       "      <th>W MAE</th>\n",
       "      <th>W MSE</th>\n",
       "      <th>W RMSE</th>\n",
       "      <th>D MAE</th>\n",
       "      <th>D MSE</th>\n",
       "      <th>D RMSE</th>\n",
       "    </tr>\n",
       "  </thead>\n",
       "  <tbody>\n",
       "    <tr>\n",
       "      <th>0</th>\n",
       "      <td>DecisionTreeRegressor</td>\n",
       "      <td>0.864219</td>\n",
       "      <td>0.911352</td>\n",
       "      <td>0.053822</td>\n",
       "      <td>0.004857</td>\n",
       "      <td>0.069691</td>\n",
       "      <td>0.077029</td>\n",
       "      <td>0.010011</td>\n",
       "      <td>0.100057</td>\n",
       "    </tr>\n",
       "    <tr>\n",
       "      <th>0</th>\n",
       "      <td>RandomForestRegressor</td>\n",
       "      <td>0.875369</td>\n",
       "      <td>0.909612</td>\n",
       "      <td>0.052679</td>\n",
       "      <td>0.005222</td>\n",
       "      <td>0.072266</td>\n",
       "      <td>0.070681</td>\n",
       "      <td>0.008798</td>\n",
       "      <td>0.093796</td>\n",
       "    </tr>\n",
       "    <tr>\n",
       "      <th>0</th>\n",
       "      <td>KNeighborsRegressor</td>\n",
       "      <td>0.886732</td>\n",
       "      <td>0.894730</td>\n",
       "      <td>0.053556</td>\n",
       "      <td>0.005310</td>\n",
       "      <td>0.072872</td>\n",
       "      <td>0.067111</td>\n",
       "      <td>0.007707</td>\n",
       "      <td>0.087788</td>\n",
       "    </tr>\n",
       "  </tbody>\n",
       "</table>\n",
       "</div>"
      ],
      "text/plain": [
       "                   model  test_score  cross_val_score     W MAE     W MSE  \\\n",
       "0  DecisionTreeRegressor    0.864219         0.911352  0.053822  0.004857   \n",
       "0  RandomForestRegressor    0.875369         0.909612  0.052679  0.005222   \n",
       "0    KNeighborsRegressor    0.886732         0.894730  0.053556  0.005310   \n",
       "\n",
       "     W RMSE     D MAE     D MSE    D RMSE  \n",
       "0  0.069691  0.077029  0.010011  0.100057  \n",
       "0  0.072266  0.070681  0.008798  0.093796  \n",
       "0  0.072872  0.067111  0.007707  0.087788  "
      ]
     },
     "execution_count": 107,
     "metadata": {},
     "output_type": "execute_result"
    }
   ],
   "source": [
    "temp = pd.DataFrame({'model': ['KNeighborsRegressor'],'test_score': [scores_data3['test_score'].max()], 'cross_val_score': [scores_data3['cross_val_score'].max()], \"W MAE\": [metrics.mean_absolute_error(Y_test_num[:, 0], y_pred_model3[:, 0])], \"W MSE\": [metrics.mean_squared_error(Y_test_num[:, 0], y_pred_model3[:, 0])],\n",
    "                     'W RMSE': [np.sqrt(metrics.mean_squared_error(Y_test_num[:, 0], y_pred_model3[:, 0]))], \"D MAE\": [metrics.mean_absolute_error(Y_test_num[:, 1], y_pred_model3[:, 1])], \"D MSE\":[metrics.mean_squared_error(Y_test_num[:, 1], y_pred_model3[:, 1])], 'D RMSE': np.sqrt(metrics.mean_squared_error(Y_test_num[:, 1], y_pred_model3[:, 1])) })\n",
    "models = pd.concat([models, temp])\n",
    "models"
   ]
  },
  {
   "cell_type": "markdown",
   "id": "7a2ff21b",
   "metadata": {},
   "source": [
    "### LinearRegression"
   ]
  },
  {
   "cell_type": "code",
   "execution_count": 110,
   "id": "3461e8f9",
   "metadata": {},
   "outputs": [],
   "source": [
    "model4 = MultiOutputRegressor(LinearRegression())"
   ]
  },
  {
   "cell_type": "code",
   "execution_count": 111,
   "id": "1371961e",
   "metadata": {},
   "outputs": [
    {
     "data": {
      "text/html": [
       "<style>#sk-container-id-6 {color: black;}#sk-container-id-6 pre{padding: 0;}#sk-container-id-6 div.sk-toggleable {background-color: white;}#sk-container-id-6 label.sk-toggleable__label {cursor: pointer;display: block;width: 100%;margin-bottom: 0;padding: 0.3em;box-sizing: border-box;text-align: center;}#sk-container-id-6 label.sk-toggleable__label-arrow:before {content: \"▸\";float: left;margin-right: 0.25em;color: #696969;}#sk-container-id-6 label.sk-toggleable__label-arrow:hover:before {color: black;}#sk-container-id-6 div.sk-estimator:hover label.sk-toggleable__label-arrow:before {color: black;}#sk-container-id-6 div.sk-toggleable__content {max-height: 0;max-width: 0;overflow: hidden;text-align: left;background-color: #f0f8ff;}#sk-container-id-6 div.sk-toggleable__content pre {margin: 0.2em;color: black;border-radius: 0.25em;background-color: #f0f8ff;}#sk-container-id-6 input.sk-toggleable__control:checked~div.sk-toggleable__content {max-height: 200px;max-width: 100%;overflow: auto;}#sk-container-id-6 input.sk-toggleable__control:checked~label.sk-toggleable__label-arrow:before {content: \"▾\";}#sk-container-id-6 div.sk-estimator input.sk-toggleable__control:checked~label.sk-toggleable__label {background-color: #d4ebff;}#sk-container-id-6 div.sk-label input.sk-toggleable__control:checked~label.sk-toggleable__label {background-color: #d4ebff;}#sk-container-id-6 input.sk-hidden--visually {border: 0;clip: rect(1px 1px 1px 1px);clip: rect(1px, 1px, 1px, 1px);height: 1px;margin: -1px;overflow: hidden;padding: 0;position: absolute;width: 1px;}#sk-container-id-6 div.sk-estimator {font-family: monospace;background-color: #f0f8ff;border: 1px dotted black;border-radius: 0.25em;box-sizing: border-box;margin-bottom: 0.5em;}#sk-container-id-6 div.sk-estimator:hover {background-color: #d4ebff;}#sk-container-id-6 div.sk-parallel-item::after {content: \"\";width: 100%;border-bottom: 1px solid gray;flex-grow: 1;}#sk-container-id-6 div.sk-label:hover label.sk-toggleable__label {background-color: #d4ebff;}#sk-container-id-6 div.sk-serial::before {content: \"\";position: absolute;border-left: 1px solid gray;box-sizing: border-box;top: 0;bottom: 0;left: 50%;z-index: 0;}#sk-container-id-6 div.sk-serial {display: flex;flex-direction: column;align-items: center;background-color: white;padding-right: 0.2em;padding-left: 0.2em;position: relative;}#sk-container-id-6 div.sk-item {position: relative;z-index: 1;}#sk-container-id-6 div.sk-parallel {display: flex;align-items: stretch;justify-content: center;background-color: white;position: relative;}#sk-container-id-6 div.sk-item::before, #sk-container-id-6 div.sk-parallel-item::before {content: \"\";position: absolute;border-left: 1px solid gray;box-sizing: border-box;top: 0;bottom: 0;left: 50%;z-index: -1;}#sk-container-id-6 div.sk-parallel-item {display: flex;flex-direction: column;z-index: 1;position: relative;background-color: white;}#sk-container-id-6 div.sk-parallel-item:first-child::after {align-self: flex-end;width: 50%;}#sk-container-id-6 div.sk-parallel-item:last-child::after {align-self: flex-start;width: 50%;}#sk-container-id-6 div.sk-parallel-item:only-child::after {width: 0;}#sk-container-id-6 div.sk-dashed-wrapped {border: 1px dashed gray;margin: 0 0.4em 0.5em 0.4em;box-sizing: border-box;padding-bottom: 0.4em;background-color: white;}#sk-container-id-6 div.sk-label label {font-family: monospace;font-weight: bold;display: inline-block;line-height: 1.2em;}#sk-container-id-6 div.sk-label-container {text-align: center;}#sk-container-id-6 div.sk-container {/* jupyter's `normalize.less` sets `[hidden] { display: none; }` but bootstrap.min.css set `[hidden] { display: none !important; }` so we also need the `!important` here to be able to override the default hidden behavior on the sphinx rendered scikit-learn.org. See: https://github.com/scikit-learn/scikit-learn/issues/21755 */display: inline-block !important;position: relative;}#sk-container-id-6 div.sk-text-repr-fallback {display: none;}</style><div id=\"sk-container-id-6\" class=\"sk-top-container\"><div class=\"sk-text-repr-fallback\"><pre>MultiOutputRegressor(estimator=LinearRegression())</pre><b>In a Jupyter environment, please rerun this cell to show the HTML representation or trust the notebook. <br />On GitHub, the HTML representation is unable to render, please try loading this page with nbviewer.org.</b></div><div class=\"sk-container\" hidden><div class=\"sk-item sk-dashed-wrapped\"><div class=\"sk-label-container\"><div class=\"sk-label sk-toggleable\"><input class=\"sk-toggleable__control sk-hidden--visually\" id=\"sk-estimator-id-16\" type=\"checkbox\" ><label for=\"sk-estimator-id-16\" class=\"sk-toggleable__label sk-toggleable__label-arrow\">MultiOutputRegressor</label><div class=\"sk-toggleable__content\"><pre>MultiOutputRegressor(estimator=LinearRegression())</pre></div></div></div><div class=\"sk-parallel\"><div class=\"sk-parallel-item\"><div class=\"sk-item\"><div class=\"sk-label-container\"><div class=\"sk-label sk-toggleable\"><input class=\"sk-toggleable__control sk-hidden--visually\" id=\"sk-estimator-id-17\" type=\"checkbox\" ><label for=\"sk-estimator-id-17\" class=\"sk-toggleable__label sk-toggleable__label-arrow\">estimator: LinearRegression</label><div class=\"sk-toggleable__content\"><pre>LinearRegression()</pre></div></div></div><div class=\"sk-serial\"><div class=\"sk-item\"><div class=\"sk-estimator sk-toggleable\"><input class=\"sk-toggleable__control sk-hidden--visually\" id=\"sk-estimator-id-18\" type=\"checkbox\" ><label for=\"sk-estimator-id-18\" class=\"sk-toggleable__label sk-toggleable__label-arrow\">LinearRegression</label><div class=\"sk-toggleable__content\"><pre>LinearRegression()</pre></div></div></div></div></div></div></div></div></div></div>"
      ],
      "text/plain": [
       "MultiOutputRegressor(estimator=LinearRegression())"
      ]
     },
     "execution_count": 111,
     "metadata": {},
     "output_type": "execute_result"
    }
   ],
   "source": [
    "model4.fit(X_train, Y_train)"
   ]
  },
  {
   "cell_type": "code",
   "execution_count": 112,
   "id": "9a02d18c",
   "metadata": {},
   "outputs": [],
   "source": [
    "y_pred_model4 = model4.predict(X_test)"
   ]
  },
  {
   "cell_type": "code",
   "execution_count": 113,
   "id": "5436b892",
   "metadata": {},
   "outputs": [
    {
     "data": {
      "text/plain": [
       "0.7361541029067603"
      ]
     },
     "execution_count": 113,
     "metadata": {},
     "output_type": "execute_result"
    }
   ],
   "source": [
    "model4.score(X_test,Y_test_num) "
   ]
  },
  {
   "cell_type": "code",
   "execution_count": 114,
   "id": "6bacc52f",
   "metadata": {},
   "outputs": [
    {
     "data": {
      "text/plain": [
       "0.8308586551190524"
      ]
     },
     "execution_count": 114,
     "metadata": {},
     "output_type": "execute_result"
    }
   ],
   "source": [
    "mean_cross_val_score = cross_val_score(model4, X_train,Y_train, cv = 5).mean() \n",
    "mean_cross_val_score"
   ]
  },
  {
   "cell_type": "code",
   "execution_count": 115,
   "id": "39362c9b",
   "metadata": {},
   "outputs": [
    {
     "data": {
      "text/html": [
       "<div>\n",
       "<style scoped>\n",
       "    .dataframe tbody tr th:only-of-type {\n",
       "        vertical-align: middle;\n",
       "    }\n",
       "\n",
       "    .dataframe tbody tr th {\n",
       "        vertical-align: top;\n",
       "    }\n",
       "\n",
       "    .dataframe thead th {\n",
       "        text-align: right;\n",
       "    }\n",
       "</style>\n",
       "<table border=\"1\" class=\"dataframe\">\n",
       "  <thead>\n",
       "    <tr style=\"text-align: right;\">\n",
       "      <th></th>\n",
       "      <th>model</th>\n",
       "      <th>test_score</th>\n",
       "      <th>cross_val_score</th>\n",
       "      <th>W MAE</th>\n",
       "      <th>W MSE</th>\n",
       "      <th>W RMSE</th>\n",
       "      <th>D MAE</th>\n",
       "      <th>D MSE</th>\n",
       "      <th>D RMSE</th>\n",
       "    </tr>\n",
       "  </thead>\n",
       "  <tbody>\n",
       "    <tr>\n",
       "      <th>0</th>\n",
       "      <td>DecisionTreeRegressor</td>\n",
       "      <td>0.864219</td>\n",
       "      <td>0.911352</td>\n",
       "      <td>0.053822</td>\n",
       "      <td>0.004857</td>\n",
       "      <td>0.069691</td>\n",
       "      <td>0.077029</td>\n",
       "      <td>0.010011</td>\n",
       "      <td>0.100057</td>\n",
       "    </tr>\n",
       "    <tr>\n",
       "      <th>0</th>\n",
       "      <td>RandomForestRegressor</td>\n",
       "      <td>0.875369</td>\n",
       "      <td>0.909612</td>\n",
       "      <td>0.052679</td>\n",
       "      <td>0.005222</td>\n",
       "      <td>0.072266</td>\n",
       "      <td>0.070681</td>\n",
       "      <td>0.008798</td>\n",
       "      <td>0.093796</td>\n",
       "    </tr>\n",
       "    <tr>\n",
       "      <th>0</th>\n",
       "      <td>KNeighborsRegressor</td>\n",
       "      <td>0.886732</td>\n",
       "      <td>0.894730</td>\n",
       "      <td>0.053556</td>\n",
       "      <td>0.005310</td>\n",
       "      <td>0.072872</td>\n",
       "      <td>0.067111</td>\n",
       "      <td>0.007707</td>\n",
       "      <td>0.087788</td>\n",
       "    </tr>\n",
       "    <tr>\n",
       "      <th>0</th>\n",
       "      <td>LinearRegression</td>\n",
       "      <td>0.736154</td>\n",
       "      <td>0.830859</td>\n",
       "      <td>0.064225</td>\n",
       "      <td>0.006597</td>\n",
       "      <td>0.081221</td>\n",
       "      <td>0.114360</td>\n",
       "      <td>0.020909</td>\n",
       "      <td>0.144599</td>\n",
       "    </tr>\n",
       "  </tbody>\n",
       "</table>\n",
       "</div>"
      ],
      "text/plain": [
       "                   model  test_score  cross_val_score     W MAE     W MSE  \\\n",
       "0  DecisionTreeRegressor    0.864219         0.911352  0.053822  0.004857   \n",
       "0  RandomForestRegressor    0.875369         0.909612  0.052679  0.005222   \n",
       "0    KNeighborsRegressor    0.886732         0.894730  0.053556  0.005310   \n",
       "0       LinearRegression    0.736154         0.830859  0.064225  0.006597   \n",
       "\n",
       "     W RMSE     D MAE     D MSE    D RMSE  \n",
       "0  0.069691  0.077029  0.010011  0.100057  \n",
       "0  0.072266  0.070681  0.008798  0.093796  \n",
       "0  0.072872  0.067111  0.007707  0.087788  \n",
       "0  0.081221  0.114360  0.020909  0.144599  "
      ]
     },
     "execution_count": 115,
     "metadata": {},
     "output_type": "execute_result"
    }
   ],
   "source": [
    "temp = pd.DataFrame({'model': ['LinearRegression'],'test_score': [model4.score(X_test,Y_test_num)], 'cross_val_score': [mean_cross_val_score], \"W MAE\": [metrics.mean_absolute_error(Y_test_num[:, 0], y_pred_model4[:, 0])], \"W MSE\": [metrics.mean_squared_error(Y_test_num[:, 0], y_pred_model4[:, 0])],\n",
    "                     'W RMSE': [np.sqrt(metrics.mean_squared_error(Y_test_num[:, 0], y_pred_model4[:, 0]))], \"D MAE\": [metrics.mean_absolute_error(Y_test_num[:, 1], y_pred_model4[:, 1])], \"D MSE\":[metrics.mean_squared_error(Y_test_num[:, 1], y_pred_model4[:, 1])], 'D RMSE': np.sqrt(metrics.mean_squared_error(Y_test_num[:, 1], y_pred_model4[:, 1])) })\n",
    "models = pd.concat([models, temp])\n",
    "models"
   ]
  },
  {
   "cell_type": "markdown",
   "id": "605707c6",
   "metadata": {},
   "source": [
    "## XGBRegressor"
   ]
  },
  {
   "cell_type": "code",
   "execution_count": 116,
   "id": "ad747517",
   "metadata": {},
   "outputs": [],
   "source": [
    "model5 = XGBRegressor()"
   ]
  },
  {
   "cell_type": "code",
   "execution_count": 117,
   "id": "a1f30e9a",
   "metadata": {},
   "outputs": [
    {
     "data": {
      "text/html": [
       "<style>#sk-container-id-7 {color: black;}#sk-container-id-7 pre{padding: 0;}#sk-container-id-7 div.sk-toggleable {background-color: white;}#sk-container-id-7 label.sk-toggleable__label {cursor: pointer;display: block;width: 100%;margin-bottom: 0;padding: 0.3em;box-sizing: border-box;text-align: center;}#sk-container-id-7 label.sk-toggleable__label-arrow:before {content: \"▸\";float: left;margin-right: 0.25em;color: #696969;}#sk-container-id-7 label.sk-toggleable__label-arrow:hover:before {color: black;}#sk-container-id-7 div.sk-estimator:hover label.sk-toggleable__label-arrow:before {color: black;}#sk-container-id-7 div.sk-toggleable__content {max-height: 0;max-width: 0;overflow: hidden;text-align: left;background-color: #f0f8ff;}#sk-container-id-7 div.sk-toggleable__content pre {margin: 0.2em;color: black;border-radius: 0.25em;background-color: #f0f8ff;}#sk-container-id-7 input.sk-toggleable__control:checked~div.sk-toggleable__content {max-height: 200px;max-width: 100%;overflow: auto;}#sk-container-id-7 input.sk-toggleable__control:checked~label.sk-toggleable__label-arrow:before {content: \"▾\";}#sk-container-id-7 div.sk-estimator input.sk-toggleable__control:checked~label.sk-toggleable__label {background-color: #d4ebff;}#sk-container-id-7 div.sk-label input.sk-toggleable__control:checked~label.sk-toggleable__label {background-color: #d4ebff;}#sk-container-id-7 input.sk-hidden--visually {border: 0;clip: rect(1px 1px 1px 1px);clip: rect(1px, 1px, 1px, 1px);height: 1px;margin: -1px;overflow: hidden;padding: 0;position: absolute;width: 1px;}#sk-container-id-7 div.sk-estimator {font-family: monospace;background-color: #f0f8ff;border: 1px dotted black;border-radius: 0.25em;box-sizing: border-box;margin-bottom: 0.5em;}#sk-container-id-7 div.sk-estimator:hover {background-color: #d4ebff;}#sk-container-id-7 div.sk-parallel-item::after {content: \"\";width: 100%;border-bottom: 1px solid gray;flex-grow: 1;}#sk-container-id-7 div.sk-label:hover label.sk-toggleable__label {background-color: #d4ebff;}#sk-container-id-7 div.sk-serial::before {content: \"\";position: absolute;border-left: 1px solid gray;box-sizing: border-box;top: 0;bottom: 0;left: 50%;z-index: 0;}#sk-container-id-7 div.sk-serial {display: flex;flex-direction: column;align-items: center;background-color: white;padding-right: 0.2em;padding-left: 0.2em;position: relative;}#sk-container-id-7 div.sk-item {position: relative;z-index: 1;}#sk-container-id-7 div.sk-parallel {display: flex;align-items: stretch;justify-content: center;background-color: white;position: relative;}#sk-container-id-7 div.sk-item::before, #sk-container-id-7 div.sk-parallel-item::before {content: \"\";position: absolute;border-left: 1px solid gray;box-sizing: border-box;top: 0;bottom: 0;left: 50%;z-index: -1;}#sk-container-id-7 div.sk-parallel-item {display: flex;flex-direction: column;z-index: 1;position: relative;background-color: white;}#sk-container-id-7 div.sk-parallel-item:first-child::after {align-self: flex-end;width: 50%;}#sk-container-id-7 div.sk-parallel-item:last-child::after {align-self: flex-start;width: 50%;}#sk-container-id-7 div.sk-parallel-item:only-child::after {width: 0;}#sk-container-id-7 div.sk-dashed-wrapped {border: 1px dashed gray;margin: 0 0.4em 0.5em 0.4em;box-sizing: border-box;padding-bottom: 0.4em;background-color: white;}#sk-container-id-7 div.sk-label label {font-family: monospace;font-weight: bold;display: inline-block;line-height: 1.2em;}#sk-container-id-7 div.sk-label-container {text-align: center;}#sk-container-id-7 div.sk-container {/* jupyter's `normalize.less` sets `[hidden] { display: none; }` but bootstrap.min.css set `[hidden] { display: none !important; }` so we also need the `!important` here to be able to override the default hidden behavior on the sphinx rendered scikit-learn.org. See: https://github.com/scikit-learn/scikit-learn/issues/21755 */display: inline-block !important;position: relative;}#sk-container-id-7 div.sk-text-repr-fallback {display: none;}</style><div id=\"sk-container-id-7\" class=\"sk-top-container\"><div class=\"sk-text-repr-fallback\"><pre>XGBRegressor(base_score=None, booster=None, callbacks=None,\n",
       "             colsample_bylevel=None, colsample_bynode=None,\n",
       "             colsample_bytree=None, early_stopping_rounds=None,\n",
       "             enable_categorical=False, eval_metric=None, feature_types=None,\n",
       "             gamma=None, gpu_id=None, grow_policy=None, importance_type=None,\n",
       "             interaction_constraints=None, learning_rate=None, max_bin=None,\n",
       "             max_cat_threshold=None, max_cat_to_onehot=None,\n",
       "             max_delta_step=None, max_depth=None, max_leaves=None,\n",
       "             min_child_weight=None, missing=nan, monotone_constraints=None,\n",
       "             n_estimators=100, n_jobs=None, num_parallel_tree=None,\n",
       "             predictor=None, random_state=None, ...)</pre><b>In a Jupyter environment, please rerun this cell to show the HTML representation or trust the notebook. <br />On GitHub, the HTML representation is unable to render, please try loading this page with nbviewer.org.</b></div><div class=\"sk-container\" hidden><div class=\"sk-item\"><div class=\"sk-estimator sk-toggleable\"><input class=\"sk-toggleable__control sk-hidden--visually\" id=\"sk-estimator-id-19\" type=\"checkbox\" checked><label for=\"sk-estimator-id-19\" class=\"sk-toggleable__label sk-toggleable__label-arrow\">XGBRegressor</label><div class=\"sk-toggleable__content\"><pre>XGBRegressor(base_score=None, booster=None, callbacks=None,\n",
       "             colsample_bylevel=None, colsample_bynode=None,\n",
       "             colsample_bytree=None, early_stopping_rounds=None,\n",
       "             enable_categorical=False, eval_metric=None, feature_types=None,\n",
       "             gamma=None, gpu_id=None, grow_policy=None, importance_type=None,\n",
       "             interaction_constraints=None, learning_rate=None, max_bin=None,\n",
       "             max_cat_threshold=None, max_cat_to_onehot=None,\n",
       "             max_delta_step=None, max_depth=None, max_leaves=None,\n",
       "             min_child_weight=None, missing=nan, monotone_constraints=None,\n",
       "             n_estimators=100, n_jobs=None, num_parallel_tree=None,\n",
       "             predictor=None, random_state=None, ...)</pre></div></div></div></div></div>"
      ],
      "text/plain": [
       "XGBRegressor(base_score=None, booster=None, callbacks=None,\n",
       "             colsample_bylevel=None, colsample_bynode=None,\n",
       "             colsample_bytree=None, early_stopping_rounds=None,\n",
       "             enable_categorical=False, eval_metric=None, feature_types=None,\n",
       "             gamma=None, gpu_id=None, grow_policy=None, importance_type=None,\n",
       "             interaction_constraints=None, learning_rate=None, max_bin=None,\n",
       "             max_cat_threshold=None, max_cat_to_onehot=None,\n",
       "             max_delta_step=None, max_depth=None, max_leaves=None,\n",
       "             min_child_weight=None, missing=nan, monotone_constraints=None,\n",
       "             n_estimators=100, n_jobs=None, num_parallel_tree=None,\n",
       "             predictor=None, random_state=None, ...)"
      ]
     },
     "execution_count": 117,
     "metadata": {},
     "output_type": "execute_result"
    }
   ],
   "source": [
    "model5.fit(X_test,Y_test)"
   ]
  },
  {
   "cell_type": "code",
   "execution_count": 118,
   "id": "5b2a6806",
   "metadata": {},
   "outputs": [],
   "source": [
    "y_pred_model5 = model5.predict(X_test)"
   ]
  },
  {
   "cell_type": "code",
   "execution_count": 119,
   "id": "56427df5",
   "metadata": {},
   "outputs": [
    {
     "data": {
      "text/plain": [
       "0.9782457348514875"
      ]
     },
     "execution_count": 119,
     "metadata": {},
     "output_type": "execute_result"
    }
   ],
   "source": [
    "model5.score(X_test, Y_test_num)"
   ]
  },
  {
   "cell_type": "code",
   "execution_count": 120,
   "id": "04096356",
   "metadata": {},
   "outputs": [
    {
     "data": {
      "text/plain": [
       "{'fit': {'sample_weight': None, 'base_margin': None, 'eval_set': None, 'eval_metric': None, 'early_stopping_rounds': None, 'verbose': None, 'xgb_model': None, 'sample_weight_eval_set': None, 'base_margin_eval_set': None, 'feature_weights': None, 'callbacks': None}, 'predict': {'output_margin': None, 'ntree_limit': None, 'validate_features': None, 'base_margin': None, 'iteration_range': None}, 'score': {'sample_weight': None}}"
      ]
     },
     "execution_count": 120,
     "metadata": {},
     "output_type": "execute_result"
    }
   ],
   "source": [
    "model5.get_metadata_routing()"
   ]
  },
  {
   "cell_type": "code",
   "execution_count": 121,
   "id": "4a417f2a",
   "metadata": {},
   "outputs": [
    {
     "data": {
      "text/plain": [
       "0.9097765412701797"
      ]
     },
     "execution_count": 121,
     "metadata": {},
     "output_type": "execute_result"
    }
   ],
   "source": [
    "mean_cross_val_score5 = cross_val_score(model5, X_train,Y_train, cv = 5).mean() \n",
    "mean_cross_val_score5 "
   ]
  },
  {
   "cell_type": "code",
   "execution_count": 122,
   "id": "f668aaed",
   "metadata": {},
   "outputs": [
    {
     "data": {
      "text/html": [
       "<div>\n",
       "<style scoped>\n",
       "    .dataframe tbody tr th:only-of-type {\n",
       "        vertical-align: middle;\n",
       "    }\n",
       "\n",
       "    .dataframe tbody tr th {\n",
       "        vertical-align: top;\n",
       "    }\n",
       "\n",
       "    .dataframe thead th {\n",
       "        text-align: right;\n",
       "    }\n",
       "</style>\n",
       "<table border=\"1\" class=\"dataframe\">\n",
       "  <thead>\n",
       "    <tr style=\"text-align: right;\">\n",
       "      <th></th>\n",
       "      <th>model</th>\n",
       "      <th>test_score</th>\n",
       "      <th>cross_val_score</th>\n",
       "      <th>W MAE</th>\n",
       "      <th>W MSE</th>\n",
       "      <th>W RMSE</th>\n",
       "      <th>D MAE</th>\n",
       "      <th>D MSE</th>\n",
       "      <th>D RMSE</th>\n",
       "    </tr>\n",
       "  </thead>\n",
       "  <tbody>\n",
       "    <tr>\n",
       "      <th>0</th>\n",
       "      <td>DecisionTreeRegressor</td>\n",
       "      <td>0.864219</td>\n",
       "      <td>0.911352</td>\n",
       "      <td>0.053822</td>\n",
       "      <td>0.004857</td>\n",
       "      <td>0.069691</td>\n",
       "      <td>0.077029</td>\n",
       "      <td>0.010011</td>\n",
       "      <td>0.100057</td>\n",
       "    </tr>\n",
       "    <tr>\n",
       "      <th>0</th>\n",
       "      <td>RandomForestRegressor</td>\n",
       "      <td>0.875369</td>\n",
       "      <td>0.909612</td>\n",
       "      <td>0.052679</td>\n",
       "      <td>0.005222</td>\n",
       "      <td>0.072266</td>\n",
       "      <td>0.070681</td>\n",
       "      <td>0.008798</td>\n",
       "      <td>0.093796</td>\n",
       "    </tr>\n",
       "    <tr>\n",
       "      <th>0</th>\n",
       "      <td>KNeighborsRegressor</td>\n",
       "      <td>0.886732</td>\n",
       "      <td>0.894730</td>\n",
       "      <td>0.053556</td>\n",
       "      <td>0.005310</td>\n",
       "      <td>0.072872</td>\n",
       "      <td>0.067111</td>\n",
       "      <td>0.007707</td>\n",
       "      <td>0.087788</td>\n",
       "    </tr>\n",
       "    <tr>\n",
       "      <th>0</th>\n",
       "      <td>LinearRegression</td>\n",
       "      <td>0.736154</td>\n",
       "      <td>0.830859</td>\n",
       "      <td>0.064225</td>\n",
       "      <td>0.006597</td>\n",
       "      <td>0.081221</td>\n",
       "      <td>0.114360</td>\n",
       "      <td>0.020909</td>\n",
       "      <td>0.144599</td>\n",
       "    </tr>\n",
       "    <tr>\n",
       "      <th>0</th>\n",
       "      <td>XGBRegressor</td>\n",
       "      <td>0.978246</td>\n",
       "      <td>0.909777</td>\n",
       "      <td>0.033289</td>\n",
       "      <td>0.002312</td>\n",
       "      <td>0.048081</td>\n",
       "      <td>0.019897</td>\n",
       "      <td>0.000818</td>\n",
       "      <td>0.028608</td>\n",
       "    </tr>\n",
       "  </tbody>\n",
       "</table>\n",
       "</div>"
      ],
      "text/plain": [
       "                   model  test_score  cross_val_score     W MAE     W MSE  \\\n",
       "0  DecisionTreeRegressor    0.864219         0.911352  0.053822  0.004857   \n",
       "0  RandomForestRegressor    0.875369         0.909612  0.052679  0.005222   \n",
       "0    KNeighborsRegressor    0.886732         0.894730  0.053556  0.005310   \n",
       "0       LinearRegression    0.736154         0.830859  0.064225  0.006597   \n",
       "0           XGBRegressor    0.978246         0.909777  0.033289  0.002312   \n",
       "\n",
       "     W RMSE     D MAE     D MSE    D RMSE  \n",
       "0  0.069691  0.077029  0.010011  0.100057  \n",
       "0  0.072266  0.070681  0.008798  0.093796  \n",
       "0  0.072872  0.067111  0.007707  0.087788  \n",
       "0  0.081221  0.114360  0.020909  0.144599  \n",
       "0  0.048081  0.019897  0.000818  0.028608  "
      ]
     },
     "execution_count": 122,
     "metadata": {},
     "output_type": "execute_result"
    }
   ],
   "source": [
    "temp = pd.DataFrame({'model': ['XGBRegressor'],'test_score': [model5.score(X_test,Y_test_num)], 'cross_val_score': [mean_cross_val_score5], \"W MAE\": [metrics.mean_absolute_error(Y_test_num[:, 0], y_pred_model5[:, 0])], \"W MSE\": [metrics.mean_squared_error(Y_test_num[:, 0], y_pred_model5[:, 0])],\n",
    "                     'W RMSE': [np.sqrt(metrics.mean_squared_error(Y_test_num[:, 0], y_pred_model5[:, 0]))], \"D MAE\": [metrics.mean_absolute_error(Y_test_num[:, 1], y_pred_model5[:, 1])], \"D MSE\":[metrics.mean_squared_error(Y_test_num[:, 1], y_pred_model5[:, 1])], 'D RMSE': np.sqrt(metrics.mean_squared_error(Y_test_num[:, 1], y_pred_model5[:, 1])) })\n",
    "models = pd.concat([models, temp])\n",
    "models"
   ]
  },
  {
   "cell_type": "markdown",
   "id": "1467d223",
   "metadata": {},
   "source": [
    "## Результаты"
   ]
  },
  {
   "cell_type": "markdown",
   "id": "339a14af",
   "metadata": {},
   "source": [
    "Мы проанализировали маленький датасет с двумя целевыми переменными, проверили его на пропуски данных и выбросы,\n",
    "а также на распределение данных и корреляцию между ними.\n",
    "Мы рассмотрели 5 разных регрессоров, позволяющих нам иметь две целевые переменные, используя разбиение датасета на \n",
    "обучающую и тестовую выборки, а также используя метод кросс-валидации. Предварительно данные были нормализованы.\n",
    "Для каждой из моделей мы рассчитали основные метрики, а именно:\n",
    "test_score - коэффициент детерминации r2 score (coefficient of determination) на тестовой выборке. Этот параметр \n",
    "показывает, насколько дисперсия целевой переменной объясняется входными данными при использовании нашей модели.\n",
    "cross_val_score - среднее значение коэффициента детерминации r2 score (coefficient of determination)\n",
    "при кросс валидации с разбивкой на 5 фолдов.\n",
    "W MAE - средняя абсолютная ошибка при определении ширины.\n",
    "W MSE - среднеквадратическая ошибка при определении ширины.\n",
    "W RMSE - корень среднеквадратической ошибки при определении ширины.\n",
    "D MAE - средняя абсолютная ошибка при определении длины. \n",
    "D MSE - среднеквадратическая ошибка при определении длины.\n",
    "D RMSE - корень среднеквадратической ошибки при определении длины."
   ]
  },
  {
   "cell_type": "code",
   "execution_count": 128,
   "id": "09cc48fe",
   "metadata": {},
   "outputs": [
    {
     "data": {
      "text/html": [
       "<div>\n",
       "<style scoped>\n",
       "    .dataframe tbody tr th:only-of-type {\n",
       "        vertical-align: middle;\n",
       "    }\n",
       "\n",
       "    .dataframe tbody tr th {\n",
       "        vertical-align: top;\n",
       "    }\n",
       "\n",
       "    .dataframe thead th {\n",
       "        text-align: right;\n",
       "    }\n",
       "</style>\n",
       "<table border=\"1\" class=\"dataframe\">\n",
       "  <thead>\n",
       "    <tr style=\"text-align: right;\">\n",
       "      <th></th>\n",
       "      <th>model</th>\n",
       "      <th>test_score</th>\n",
       "      <th>cross_val_score</th>\n",
       "      <th>W MAE</th>\n",
       "      <th>W MSE</th>\n",
       "      <th>W RMSE</th>\n",
       "      <th>D MAE</th>\n",
       "      <th>D MSE</th>\n",
       "      <th>D RMSE</th>\n",
       "    </tr>\n",
       "  </thead>\n",
       "  <tbody>\n",
       "    <tr>\n",
       "      <th>0</th>\n",
       "      <td>DecisionTreeRegressor</td>\n",
       "      <td>0.864219</td>\n",
       "      <td>0.911352</td>\n",
       "      <td>0.053822</td>\n",
       "      <td>0.004857</td>\n",
       "      <td>0.069691</td>\n",
       "      <td>0.077029</td>\n",
       "      <td>0.010011</td>\n",
       "      <td>0.100057</td>\n",
       "    </tr>\n",
       "    <tr>\n",
       "      <th>1</th>\n",
       "      <td>RandomForestRegressor</td>\n",
       "      <td>0.875369</td>\n",
       "      <td>0.909612</td>\n",
       "      <td>0.052679</td>\n",
       "      <td>0.005222</td>\n",
       "      <td>0.072266</td>\n",
       "      <td>0.070681</td>\n",
       "      <td>0.008798</td>\n",
       "      <td>0.093796</td>\n",
       "    </tr>\n",
       "    <tr>\n",
       "      <th>2</th>\n",
       "      <td>KNeighborsRegressor</td>\n",
       "      <td>0.886732</td>\n",
       "      <td>0.894730</td>\n",
       "      <td>0.053556</td>\n",
       "      <td>0.005310</td>\n",
       "      <td>0.072872</td>\n",
       "      <td>0.067111</td>\n",
       "      <td>0.007707</td>\n",
       "      <td>0.087788</td>\n",
       "    </tr>\n",
       "    <tr>\n",
       "      <th>3</th>\n",
       "      <td>LinearRegression</td>\n",
       "      <td>0.736154</td>\n",
       "      <td>0.830859</td>\n",
       "      <td>0.064225</td>\n",
       "      <td>0.006597</td>\n",
       "      <td>0.081221</td>\n",
       "      <td>0.114360</td>\n",
       "      <td>0.020909</td>\n",
       "      <td>0.144599</td>\n",
       "    </tr>\n",
       "    <tr>\n",
       "      <th>4</th>\n",
       "      <td>XGBRegressor</td>\n",
       "      <td>0.978246</td>\n",
       "      <td>0.909777</td>\n",
       "      <td>0.033289</td>\n",
       "      <td>0.002312</td>\n",
       "      <td>0.048081</td>\n",
       "      <td>0.019897</td>\n",
       "      <td>0.000818</td>\n",
       "      <td>0.028608</td>\n",
       "    </tr>\n",
       "  </tbody>\n",
       "</table>\n",
       "</div>"
      ],
      "text/plain": [
       "                   model  test_score  cross_val_score     W MAE     W MSE  \\\n",
       "0  DecisionTreeRegressor    0.864219         0.911352  0.053822  0.004857   \n",
       "1  RandomForestRegressor    0.875369         0.909612  0.052679  0.005222   \n",
       "2    KNeighborsRegressor    0.886732         0.894730  0.053556  0.005310   \n",
       "3       LinearRegression    0.736154         0.830859  0.064225  0.006597   \n",
       "4           XGBRegressor    0.978246         0.909777  0.033289  0.002312   \n",
       "\n",
       "     W RMSE     D MAE     D MSE    D RMSE  \n",
       "0  0.069691  0.077029  0.010011  0.100057  \n",
       "1  0.072266  0.070681  0.008798  0.093796  \n",
       "2  0.072872  0.067111  0.007707  0.087788  \n",
       "3  0.081221  0.114360  0.020909  0.144599  \n",
       "4  0.048081  0.019897  0.000818  0.028608  "
      ]
     },
     "execution_count": 128,
     "metadata": {},
     "output_type": "execute_result"
    }
   ],
   "source": [
    "models.reset_index(inplace=True)\n",
    "models = models.drop(['index'], axis = 1)\n",
    "models\n",
    "#reindexing"
   ]
  },
  {
   "cell_type": "markdown",
   "id": "458bb40f",
   "metadata": {},
   "source": [
    "Модель, показавшая наилучший коэффициент детерминации при кросс валидации - DecisionTreeRegressor, то есть \n",
    "эта модель наилучшим образом объясняет дисперсия целевых переменных, используя входными данными, \n",
    "а наихудшей моделью оказалась LinearRegression.\n",
    "При этом модель, имевшая наименьшие показатели ошибок при определении длины и ширины - XGBRegressor. Эта модель \n",
    "совершила меньше ошибок, чем все остальные из протестированных.\n",
    "Хуже всего с этой задачей справилась LinearRegression.\n",
    "\n",
    "На основании полученных данных можно сделать вывод о том, что XGBRegressor точнее предсказывает целевые переменные."
   ]
  },
  {
   "cell_type": "code",
   "execution_count": null,
   "id": "9bda4790",
   "metadata": {},
   "outputs": [],
   "source": []
  }
 ],
 "metadata": {
  "kernelspec": {
   "display_name": "chem",
   "language": "python",
   "name": "chem"
  },
  "language_info": {
   "codemirror_mode": {
    "name": "ipython",
    "version": 3
   },
   "file_extension": ".py",
   "mimetype": "text/x-python",
   "name": "python",
   "nbconvert_exporter": "python",
   "pygments_lexer": "ipython3",
   "version": "3.9.7"
  }
 },
 "nbformat": 4,
 "nbformat_minor": 5
}
